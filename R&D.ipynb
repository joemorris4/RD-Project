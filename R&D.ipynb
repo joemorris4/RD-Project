{
 "cells": [
  {
   "cell_type": "markdown",
   "metadata": {},
   "source": [
    "# Trading Strategy R&D Assignment\n",
    "### Joe Morris | JJM5298"
   ]
  },
  {
   "cell_type": "code",
   "execution_count": 1,
   "metadata": {},
   "outputs": [],
   "source": [
    "import pandas as pd\n",
    "import numpy as np\n",
    "import statsmodels.api as sm\n",
    "import warnings\n",
    "warnings.filterwarnings('ignore')"
   ]
  },
  {
   "cell_type": "markdown",
   "metadata": {},
   "source": [
    "# Import Data"
   ]
  },
  {
   "cell_type": "markdown",
   "metadata": {},
   "source": [
    "Import monthly pricing data, annual financial data, and fama french factors"
   ]
  },
  {
   "cell_type": "code",
   "execution_count": 2,
   "metadata": {},
   "outputs": [],
   "source": [
    "# monthly pricing\n",
    "monthly = pd.read_csv('monthly.csv')\n",
    "\n",
    "# annual R&D\n",
    "annual = pd.read_csv('annual.csv')\n",
    "# drop unnecessary columns\n",
    "annual.drop(columns=['costat', 'indfmt', 'consol', 'popsrc', 'datafmt'], inplace=True)\n",
    "# change datadate to datetime object\n",
    "annual['datadate'] = pd.to_datetime(annual['datadate'])\n",
    "# shift 90 days for look ahead bias\n",
    "annual['datadate'] = annual['datadate'] + pd.Timedelta(days=90)"
   ]
  },
  {
   "cell_type": "markdown",
   "metadata": {},
   "source": [
    "## Fama French 3 Factors"
   ]
  },
  {
   "cell_type": "code",
   "execution_count": 3,
   "metadata": {},
   "outputs": [
    {
     "data": {
      "text/html": [
       "<div>\n",
       "<style scoped>\n",
       "    .dataframe tbody tr th:only-of-type {\n",
       "        vertical-align: middle;\n",
       "    }\n",
       "\n",
       "    .dataframe tbody tr th {\n",
       "        vertical-align: top;\n",
       "    }\n",
       "\n",
       "    .dataframe thead th {\n",
       "        text-align: right;\n",
       "    }\n",
       "</style>\n",
       "<table border=\"1\" class=\"dataframe\">\n",
       "  <thead>\n",
       "    <tr style=\"text-align: right;\">\n",
       "      <th></th>\n",
       "      <th>year_month</th>\n",
       "      <th>Mkt-RF</th>\n",
       "      <th>SMB</th>\n",
       "      <th>HML</th>\n",
       "      <th>RF</th>\n",
       "    </tr>\n",
       "  </thead>\n",
       "  <tbody>\n",
       "    <tr>\n",
       "      <th>0</th>\n",
       "      <td>1926-07</td>\n",
       "      <td>2.96</td>\n",
       "      <td>-2.56</td>\n",
       "      <td>-2.43</td>\n",
       "      <td>0.0022</td>\n",
       "    </tr>\n",
       "    <tr>\n",
       "      <th>1</th>\n",
       "      <td>1926-08</td>\n",
       "      <td>2.64</td>\n",
       "      <td>-1.17</td>\n",
       "      <td>3.82</td>\n",
       "      <td>0.0025</td>\n",
       "    </tr>\n",
       "  </tbody>\n",
       "</table>\n",
       "</div>"
      ],
      "text/plain": [
       "  year_month  Mkt-RF   SMB   HML      RF\n",
       "0    1926-07    2.96 -2.56 -2.43  0.0022\n",
       "1    1926-08    2.64 -1.17  3.82  0.0025"
      ]
     },
     "execution_count": 3,
     "metadata": {},
     "output_type": "execute_result"
    }
   ],
   "source": [
    "# fama french 3 factors\n",
    "fama_french = pd.read_csv('F-F_Research_Data_Factors.csv')\n",
    "# rename index to descriptive date\n",
    "fama_french.rename({'Unnamed: 0': 'year_month'}, axis=1, inplace=True)\n",
    "# change year_month to datetime object\n",
    "fama_french['year_month'] = pd.to_datetime(fama_french['year_month'], format='%Y%m')\n",
    "# get rid of days that come with datetime object\n",
    "fama_french['year_month'] = fama_french['year_month'].dt.to_period('M')\n",
    "# make the rf rate a decimal\n",
    "fama_french['RF'] = fama_french['RF'] / 100\n",
    "\n",
    "fama_french.head(2)"
   ]
  },
  {
   "cell_type": "markdown",
   "metadata": {},
   "source": [
    "## Clean Monthly Data"
   ]
  },
  {
   "cell_type": "code",
   "execution_count": 4,
   "metadata": {},
   "outputs": [
    {
     "data": {
      "text/html": [
       "<div>\n",
       "<style scoped>\n",
       "    .dataframe tbody tr th:only-of-type {\n",
       "        vertical-align: middle;\n",
       "    }\n",
       "\n",
       "    .dataframe tbody tr th {\n",
       "        vertical-align: top;\n",
       "    }\n",
       "\n",
       "    .dataframe thead th {\n",
       "        text-align: right;\n",
       "    }\n",
       "</style>\n",
       "<table border=\"1\" class=\"dataframe\">\n",
       "  <thead>\n",
       "    <tr style=\"text-align: right;\">\n",
       "      <th></th>\n",
       "      <th>PERMNO</th>\n",
       "      <th>monthly_date</th>\n",
       "      <th>company_name</th>\n",
       "      <th>monthly_price</th>\n",
       "      <th>monthly_return</th>\n",
       "      <th>shares_outstanding</th>\n",
       "    </tr>\n",
       "  </thead>\n",
       "  <tbody>\n",
       "    <tr>\n",
       "      <th>978103</th>\n",
       "      <td>27829</td>\n",
       "      <td>1975-01-31</td>\n",
       "      <td>CROWNAMERICA INC</td>\n",
       "      <td>3.875</td>\n",
       "      <td>0.192308</td>\n",
       "      <td>1300.0</td>\n",
       "    </tr>\n",
       "    <tr>\n",
       "      <th>1124457</th>\n",
       "      <td>34841</td>\n",
       "      <td>1975-01-31</td>\n",
       "      <td>OGDEN CORP</td>\n",
       "      <td>17.625</td>\n",
       "      <td>0.317757</td>\n",
       "      <td>10090.0</td>\n",
       "    </tr>\n",
       "  </tbody>\n",
       "</table>\n",
       "</div>"
      ],
      "text/plain": [
       "         PERMNO monthly_date      company_name  monthly_price  monthly_return  \\\n",
       "978103    27829   1975-01-31  CROWNAMERICA INC          3.875        0.192308   \n",
       "1124457   34841   1975-01-31        OGDEN CORP         17.625        0.317757   \n",
       "\n",
       "         shares_outstanding  \n",
       "978103               1300.0  \n",
       "1124457             10090.0  "
      ]
     },
     "execution_count": 4,
     "metadata": {},
     "output_type": "execute_result"
    }
   ],
   "source": [
    "# change date to datetime object\n",
    "monthly['date'] = pd.to_datetime(monthly['date'])\n",
    "\n",
    "# get rid of returns that are non numeric\n",
    "monthly['RET'] = pd.to_numeric(monthly['RET'], errors='coerce')\n",
    "# drop returns that are nan\n",
    "monthly.dropna(subset=['RET'], inplace=True)\n",
    "# remove returns less than -100%\n",
    "monthly = monthly[monthly['RET'] > -1]\n",
    "# sort values by date for easier viewing\n",
    "monthly.sort_values('date', inplace=True)\n",
    "# change prices to be all positive (Bid-Ask Spread filled values could make them negative)\n",
    "monthly['PRC'] = monthly['PRC'].apply(lambda x: abs(x))\n",
    "# drop unnecessary columns\n",
    "monthly.drop(columns=['EXCHCD', 'SICCD', 'TICKER'], inplace=True)\n",
    "\n",
    "# rename columns for better understanding\n",
    "monthly.rename({'date': 'monthly_date', 'COMNAM': 'company_name', 'RET': 'monthly_return', 'SHROUT': 'shares_outstanding', 'PRC': 'monthly_price'}, axis=1, inplace=True)\n",
    "\n",
    "monthly.head(2)\n"
   ]
  },
  {
   "cell_type": "markdown",
   "metadata": {},
   "source": [
    "### Change monthly returns to be in excess of the risk free rate"
   ]
  },
  {
   "cell_type": "code",
   "execution_count": 5,
   "metadata": {},
   "outputs": [
    {
     "data": {
      "text/html": [
       "<div>\n",
       "<style scoped>\n",
       "    .dataframe tbody tr th:only-of-type {\n",
       "        vertical-align: middle;\n",
       "    }\n",
       "\n",
       "    .dataframe tbody tr th {\n",
       "        vertical-align: top;\n",
       "    }\n",
       "\n",
       "    .dataframe thead th {\n",
       "        text-align: right;\n",
       "    }\n",
       "</style>\n",
       "<table border=\"1\" class=\"dataframe\">\n",
       "  <thead>\n",
       "    <tr style=\"text-align: right;\">\n",
       "      <th></th>\n",
       "      <th>PERMNO</th>\n",
       "      <th>monthly_date</th>\n",
       "      <th>company_name</th>\n",
       "      <th>monthly_price</th>\n",
       "      <th>monthly_return</th>\n",
       "      <th>shares_outstanding</th>\n",
       "    </tr>\n",
       "  </thead>\n",
       "  <tbody>\n",
       "    <tr>\n",
       "      <th>0</th>\n",
       "      <td>27829</td>\n",
       "      <td>1975-01-31</td>\n",
       "      <td>CROWNAMERICA INC</td>\n",
       "      <td>3.875</td>\n",
       "      <td>0.186508</td>\n",
       "      <td>1300.0</td>\n",
       "    </tr>\n",
       "    <tr>\n",
       "      <th>1</th>\n",
       "      <td>34841</td>\n",
       "      <td>1975-01-31</td>\n",
       "      <td>OGDEN CORP</td>\n",
       "      <td>17.625</td>\n",
       "      <td>0.311957</td>\n",
       "      <td>10090.0</td>\n",
       "    </tr>\n",
       "  </tbody>\n",
       "</table>\n",
       "</div>"
      ],
      "text/plain": [
       "   PERMNO monthly_date      company_name  monthly_price  monthly_return  \\\n",
       "0   27829   1975-01-31  CROWNAMERICA INC          3.875        0.186508   \n",
       "1   34841   1975-01-31        OGDEN CORP         17.625        0.311957   \n",
       "\n",
       "   shares_outstanding  \n",
       "0              1300.0  \n",
       "1             10090.0  "
      ]
     },
     "execution_count": 5,
     "metadata": {},
     "output_type": "execute_result"
    }
   ],
   "source": [
    "# add year and month columns to both data sets for merging\n",
    "fama_french['year'] = fama_french['year_month'].dt.year\n",
    "fama_french['month'] = fama_french['year_month'].dt.month\n",
    "monthly['year'] = monthly['monthly_date'].dt.year\n",
    "monthly['month'] = monthly['monthly_date'].dt.month\n",
    "\n",
    "# merge monthly and fama french data to get the right RF rate for each month\n",
    "monthly = pd.merge(monthly, fama_french, how='left', on=['year', 'month'])\n",
    "\n",
    "# change the monthly_return by subtracting the rf rate (Excess Return)\n",
    "monthly['monthly_return'] = monthly['monthly_return'] - monthly['RF']\n",
    "# drop unnecessary columns\n",
    "monthly.drop(columns=['year', 'month', 'year_month', 'RF', 'Mkt-RF', 'SMB',\t'HML'], inplace=True)\n",
    "\n",
    "monthly.head(2)"
   ]
  },
  {
   "cell_type": "markdown",
   "metadata": {},
   "source": [
    "## Clean Annual Data"
   ]
  },
  {
   "cell_type": "code",
   "execution_count": 6,
   "metadata": {},
   "outputs": [
    {
     "data": {
      "text/html": [
       "<div>\n",
       "<style scoped>\n",
       "    .dataframe tbody tr th:only-of-type {\n",
       "        vertical-align: middle;\n",
       "    }\n",
       "\n",
       "    .dataframe tbody tr th {\n",
       "        vertical-align: top;\n",
       "    }\n",
       "\n",
       "    .dataframe thead th {\n",
       "        text-align: right;\n",
       "    }\n",
       "</style>\n",
       "<table border=\"1\" class=\"dataframe\">\n",
       "  <thead>\n",
       "    <tr style=\"text-align: right;\">\n",
       "      <th></th>\n",
       "      <th>GVKEY</th>\n",
       "      <th>LPERMNO</th>\n",
       "      <th>yearly_date</th>\n",
       "      <th>fyear</th>\n",
       "      <th>conm</th>\n",
       "      <th>xrd</th>\n",
       "      <th>mktvaleq</th>\n",
       "    </tr>\n",
       "  </thead>\n",
       "  <tbody>\n",
       "    <tr>\n",
       "      <th>137725</th>\n",
       "      <td>10813</td>\n",
       "      <td>50278</td>\n",
       "      <td>1975-01-29</td>\n",
       "      <td>1974</td>\n",
       "      <td>URS CORP</td>\n",
       "      <td>0.0</td>\n",
       "      <td>5.848500</td>\n",
       "    </tr>\n",
       "    <tr>\n",
       "      <th>96801</th>\n",
       "      <td>7911</td>\n",
       "      <td>57745</td>\n",
       "      <td>1975-01-29</td>\n",
       "      <td>1974</td>\n",
       "      <td>NOBILITY HOMES INC</td>\n",
       "      <td>0.0</td>\n",
       "      <td>4.229125</td>\n",
       "    </tr>\n",
       "  </tbody>\n",
       "</table>\n",
       "</div>"
      ],
      "text/plain": [
       "        GVKEY  LPERMNO yearly_date  fyear                conm  xrd  mktvaleq\n",
       "137725  10813    50278  1975-01-29   1974            URS CORP  0.0  5.848500\n",
       "96801    7911    57745  1975-01-29   1974  NOBILITY HOMES INC  0.0  4.229125"
      ]
     },
     "execution_count": 6,
     "metadata": {},
     "output_type": "execute_result"
    }
   ],
   "source": [
    "# filter by exchange 11-19\n",
    "annual = annual[(annual['exchg'] >= 11) & (annual['exchg'] <= 19)]\n",
    "# filter by sic not between 6000-6999\n",
    "annual = annual[(annual['sic'] <= 5999) | (annual['sic'] >= 7000)]\n",
    "# fill nan values with 0 for R&D\n",
    "annual['xrd'].fillna(0, inplace=True)\n",
    "# compute annual market value of equity\n",
    "annual['mktvaleq'] = annual['csho'] * annual['prcc_f']\n",
    "# sort by datadate for easier viewing\n",
    "annual.sort_values('datadate', inplace=True)\n",
    "# remove dates that are way outside our range (1975-2022 only)\n",
    "annual = annual[((annual['datadate'] >= '1975-01-01') & (annual['datadate'] <= '2022-01-01'))]\n",
    "# drop firms without a market value of equity\n",
    "annual.dropna(subset=['mktvaleq'], inplace=True)\n",
    "# drop columns no longer needed\n",
    "annual.drop(columns=['curcd', 'exchg', 'mkvalt', 'prcc_f', 'sic', 'csho', 'fyr'], inplace=True)\n",
    "# rename datadate to yearly_date for better understanding\n",
    "annual.rename({'datadate': 'yearly_date'}, axis=1, inplace=True)\n",
    "# if R&D is negative, set it to 0\n",
    "annual['xrd'] = annual['xrd'].apply(lambda x: 0 if x < 0 else x)\n",
    "\n",
    "annual.head(2)"
   ]
  },
  {
   "cell_type": "markdown",
   "metadata": {},
   "source": [
    "# Reconstitution"
   ]
  },
  {
   "cell_type": "markdown",
   "metadata": {},
   "source": [
    "### Edit 'fyear' to be the year of the reconstitution (April 1st to April 1st)"
   ]
  },
  {
   "cell_type": "markdown",
   "metadata": {},
   "source": [
    "Most firms had their fiscal year end on December 31st, therefore after lagging the data by 3 months, the fiscal year end was March 31st. Therefore if we reconstitute on April 1st, majority of the firms would have their most recent annuals data available."
   ]
  },
  {
   "cell_type": "code",
   "execution_count": 7,
   "metadata": {},
   "outputs": [],
   "source": [
    "# if month is after april (4), then add 1 to the year to get the correct year\n",
    "annual['year'] = annual['yearly_date'].dt.year\n",
    "annual['month'] = annual['yearly_date'].dt.month\n",
    "annual['fyear'] = np.where(annual['month'] >= 4, annual['year'] + 1, annual['year'])\n",
    "\n",
    "# if month is after april (4), then keep the year to line it up with the correct yearly financial data\n",
    "monthly['year'] = monthly['monthly_date'].dt.year\n",
    "monthly['month'] = monthly['monthly_date'].dt.month\n",
    "monthly['fyear'] = np.where(monthly['month'] >= 4, monthly['year'], monthly['year'] - 1)"
   ]
  },
  {
   "cell_type": "markdown",
   "metadata": {},
   "source": [
    "### Create rdc/mktvaleq column for splitting our data into R&D quintiles and Non-R&D"
   ]
  },
  {
   "cell_type": "code",
   "execution_count": 8,
   "metadata": {},
   "outputs": [
    {
     "data": {
      "text/html": [
       "<div>\n",
       "<style scoped>\n",
       "    .dataframe tbody tr th:only-of-type {\n",
       "        vertical-align: middle;\n",
       "    }\n",
       "\n",
       "    .dataframe tbody tr th {\n",
       "        vertical-align: top;\n",
       "    }\n",
       "\n",
       "    .dataframe thead th {\n",
       "        text-align: right;\n",
       "    }\n",
       "</style>\n",
       "<table border=\"1\" class=\"dataframe\">\n",
       "  <thead>\n",
       "    <tr style=\"text-align: right;\">\n",
       "      <th></th>\n",
       "      <th>GVKEY</th>\n",
       "      <th>LPERMNO</th>\n",
       "      <th>conm</th>\n",
       "      <th>yearly_date</th>\n",
       "      <th>fyear</th>\n",
       "      <th>mktvaleq</th>\n",
       "      <th>xrd</th>\n",
       "      <th>rdc</th>\n",
       "      <th>rdc_mktvaleq</th>\n",
       "    </tr>\n",
       "  </thead>\n",
       "  <tbody>\n",
       "    <tr>\n",
       "      <th>137725</th>\n",
       "      <td>10813</td>\n",
       "      <td>50278</td>\n",
       "      <td>URS CORP</td>\n",
       "      <td>1975-01-29</td>\n",
       "      <td>1975</td>\n",
       "      <td>5.848500</td>\n",
       "      <td>0.0</td>\n",
       "      <td>0.0</td>\n",
       "      <td>0.0</td>\n",
       "    </tr>\n",
       "    <tr>\n",
       "      <th>96801</th>\n",
       "      <td>7911</td>\n",
       "      <td>57745</td>\n",
       "      <td>NOBILITY HOMES INC</td>\n",
       "      <td>1975-01-29</td>\n",
       "      <td>1975</td>\n",
       "      <td>4.229125</td>\n",
       "      <td>0.0</td>\n",
       "      <td>0.0</td>\n",
       "      <td>0.0</td>\n",
       "    </tr>\n",
       "  </tbody>\n",
       "</table>\n",
       "</div>"
      ],
      "text/plain": [
       "        GVKEY  LPERMNO                conm yearly_date  fyear  mktvaleq  xrd  \\\n",
       "137725  10813    50278            URS CORP  1975-01-29   1975  5.848500  0.0   \n",
       "96801    7911    57745  NOBILITY HOMES INC  1975-01-29   1975  4.229125  0.0   \n",
       "\n",
       "        rdc  rdc_mktvaleq  \n",
       "137725  0.0           0.0  \n",
       "96801   0.0           0.0  "
      ]
     },
     "execution_count": 8,
     "metadata": {},
     "output_type": "execute_result"
    }
   ],
   "source": [
    "# create rdc column by taking a weighted average of R&D over the past 5 years\n",
    "annual['rdc'] = annual['xrd'] \\\n",
    "                + 0.8 * annual.groupby(['GVKEY'])['xrd'].shift(1).fillna(0) \\\n",
    "                + 0.6 * annual.groupby(['GVKEY'])['xrd'].shift(2).fillna(0) \\\n",
    "                + 0.4 * annual.groupby(['GVKEY'])['xrd'].shift(3).fillna(0) \\\n",
    "                + 0.2 * annual.groupby(['GVKEY'])['xrd'].shift(4).fillna(0)\n",
    "\n",
    "# compute a column for rdc / mktvaleq (Moving Average R&D / Market Value of Equity)\n",
    "annual['rdc_mktvaleq'] = annual['rdc'] / annual['mktvaleq']\n",
    "# drop unnecessary columns\n",
    "annual = annual[['GVKEY', 'LPERMNO', 'conm', 'yearly_date','fyear', \n",
    "        'mktvaleq', 'xrd', 'rdc', 'rdc_mktvaleq']]\n",
    "\n",
    "annual.head(2)"
   ]
  },
  {
   "cell_type": "markdown",
   "metadata": {},
   "source": [
    "## Merge Monthly and Annual Data"
   ]
  },
  {
   "cell_type": "code",
   "execution_count": 9,
   "metadata": {},
   "outputs": [
    {
     "data": {
      "text/html": [
       "<div>\n",
       "<style scoped>\n",
       "    .dataframe tbody tr th:only-of-type {\n",
       "        vertical-align: middle;\n",
       "    }\n",
       "\n",
       "    .dataframe tbody tr th {\n",
       "        vertical-align: top;\n",
       "    }\n",
       "\n",
       "    .dataframe thead th {\n",
       "        text-align: right;\n",
       "    }\n",
       "</style>\n",
       "<table border=\"1\" class=\"dataframe\">\n",
       "  <thead>\n",
       "    <tr style=\"text-align: right;\">\n",
       "      <th></th>\n",
       "      <th>GVKEY</th>\n",
       "      <th>PERMNO</th>\n",
       "      <th>company_name</th>\n",
       "      <th>yearly_date</th>\n",
       "      <th>fyear</th>\n",
       "      <th>monthly_date</th>\n",
       "      <th>mktvaleq</th>\n",
       "      <th>xrd</th>\n",
       "      <th>rdc</th>\n",
       "      <th>rdc_mktvaleq</th>\n",
       "      <th>monthly_price</th>\n",
       "      <th>monthly_return</th>\n",
       "      <th>shares_outstanding</th>\n",
       "    </tr>\n",
       "  </thead>\n",
       "  <tbody>\n",
       "    <tr>\n",
       "      <th>0</th>\n",
       "      <td>10813</td>\n",
       "      <td>50278</td>\n",
       "      <td>U R S CORP</td>\n",
       "      <td>1975-01-29</td>\n",
       "      <td>1975</td>\n",
       "      <td>1975-04-30</td>\n",
       "      <td>5.8485</td>\n",
       "      <td>0.0</td>\n",
       "      <td>0.0</td>\n",
       "      <td>0.0</td>\n",
       "      <td>2.625</td>\n",
       "      <td>-0.091357</td>\n",
       "      <td>3342.0</td>\n",
       "    </tr>\n",
       "    <tr>\n",
       "      <th>1036</th>\n",
       "      <td>6859</td>\n",
       "      <td>49023</td>\n",
       "      <td>M B P X L CORP</td>\n",
       "      <td>1975-01-29</td>\n",
       "      <td>1975</td>\n",
       "      <td>1975-11-28</td>\n",
       "      <td>13.0645</td>\n",
       "      <td>0.0</td>\n",
       "      <td>0.0</td>\n",
       "      <td>0.0</td>\n",
       "      <td>10.125</td>\n",
       "      <td>0.113141</td>\n",
       "      <td>1786.0</td>\n",
       "    </tr>\n",
       "  </tbody>\n",
       "</table>\n",
       "</div>"
      ],
      "text/plain": [
       "      GVKEY  PERMNO    company_name yearly_date  fyear monthly_date  mktvaleq  \\\n",
       "0     10813   50278      U R S CORP  1975-01-29   1975   1975-04-30    5.8485   \n",
       "1036   6859   49023  M B P X L CORP  1975-01-29   1975   1975-11-28   13.0645   \n",
       "\n",
       "      xrd  rdc  rdc_mktvaleq  monthly_price  monthly_return  \\\n",
       "0     0.0  0.0           0.0          2.625       -0.091357   \n",
       "1036  0.0  0.0           0.0         10.125        0.113141   \n",
       "\n",
       "      shares_outstanding  \n",
       "0                 3342.0  \n",
       "1036              1786.0  "
      ]
     },
     "execution_count": 9,
     "metadata": {},
     "output_type": "execute_result"
    }
   ],
   "source": [
    "# merge the monthly and annual data sets on LPERMNO and PERMNO as well as fyear\n",
    "# inner because we only want data that has both monthly and annual data\n",
    "data = annual.merge(monthly, how = 'inner', left_on=['LPERMNO', 'fyear'], right_on=['PERMNO', 'fyear'])\n",
    "\n",
    "# drop unnecessary columns by subsetting by the columns we need\n",
    "data = data[['GVKEY', 'PERMNO', 'company_name', 'yearly_date', 'fyear', 'monthly_date', \n",
    "            'mktvaleq', 'xrd', 'rdc', 'rdc_mktvaleq', 'monthly_price', 'monthly_return', 'shares_outstanding']]\n",
    "\n",
    "# There are cases where there are multiple financial data points for the same month, so we need to drop those duplicates\n",
    "# We want to keep the entry where the monthly data is using the most up to date fiscal year financial numbers (Closest to April 1st)\n",
    "data = data.sort_values('yearly_date').drop_duplicates(['PERMNO', 'monthly_date'], keep='last')\n",
    "\n",
    "data.head(2)"
   ]
  },
  {
   "cell_type": "markdown",
   "metadata": {},
   "source": [
    "# Three Sample Periods (1981-2012, 1981-1999, 2000-2012)"
   ]
  },
  {
   "cell_type": "markdown",
   "metadata": {},
   "source": [
    "### Make a dataframe that includes each entries quintile for its year"
   ]
  },
  {
   "cell_type": "code",
   "execution_count": 10,
   "metadata": {},
   "outputs": [],
   "source": [
    "# new dataframe that will include quintiles, returns for equally and value weighted portfolios\n",
    "all_quant = pd.DataFrame()\n",
    "\n",
    "def get_quintiles(df):\n",
    "    '''\n",
    "        Parameters:\n",
    "            df: DataFrame that contains the data for a specific fyear\n",
    "        Returns:\n",
    "            quintiles: DataFrame that contains the quintiles for a specific fyear (0 for Non-R&D firms, 1-5 for R&D firms)\n",
    "    '''\n",
    "\n",
    "    # split df into R&D firms and Non-R&D firms\n",
    "    rd = df[df['rdc_mktvaleq'] != 0]\n",
    "    no_rd = df[df['rdc_mktvaleq'] == 0]\n",
    "\n",
    "    # get the quintiles for R&D firms\n",
    "    rd['quintile'] = pd.qcut(rd['rdc_mktvaleq'], 5, labels=[1, 2, 3, 4, 5])\n",
    "    # assign a quintile of 0 to Non-R&D firms\n",
    "    no_rd['quintile'] = 0\n",
    "\n",
    "    # combine r&d and no r&d into one dataframe\n",
    "    df = pd.concat([rd, no_rd])\n",
    "\n",
    "    return df\n",
    "\n",
    "# loop through each fyear to get the quintiles for each entry\n",
    "for year in data['fyear'].unique():\n",
    "    # get the data for that fyear\n",
    "    df = data[data['fyear'] == year]\n",
    "    # get the quintiles for that fyear\n",
    "    df = get_quintiles(df)\n",
    "    # add the data with the quintile splits to the all_quant dataframe\n",
    "    all_quant = pd.concat([all_quant, df])"
   ]
  },
  {
   "cell_type": "markdown",
   "metadata": {},
   "source": [
    "### Add columns for computing value weighted returns"
   ]
  },
  {
   "cell_type": "code",
   "execution_count": 11,
   "metadata": {},
   "outputs": [
    {
     "data": {
      "text/html": [
       "<div>\n",
       "<style scoped>\n",
       "    .dataframe tbody tr th:only-of-type {\n",
       "        vertical-align: middle;\n",
       "    }\n",
       "\n",
       "    .dataframe tbody tr th {\n",
       "        vertical-align: top;\n",
       "    }\n",
       "\n",
       "    .dataframe thead th {\n",
       "        text-align: right;\n",
       "    }\n",
       "</style>\n",
       "<table border=\"1\" class=\"dataframe\">\n",
       "  <thead>\n",
       "    <tr style=\"text-align: right;\">\n",
       "      <th></th>\n",
       "      <th>GVKEY</th>\n",
       "      <th>PERMNO</th>\n",
       "      <th>company_name</th>\n",
       "      <th>yearly_date</th>\n",
       "      <th>fyear</th>\n",
       "      <th>monthly_date</th>\n",
       "      <th>mktvaleq</th>\n",
       "      <th>xrd</th>\n",
       "      <th>rdc</th>\n",
       "      <th>rdc_mktvaleq</th>\n",
       "      <th>monthly_price</th>\n",
       "      <th>monthly_return</th>\n",
       "      <th>shares_outstanding</th>\n",
       "      <th>quintile</th>\n",
       "      <th>monthly_mktvaleq</th>\n",
       "      <th>lagged_monthly_mktvaleq</th>\n",
       "      <th>sum_lagged_monthly_mktvaleq</th>\n",
       "      <th>weight</th>\n",
       "      <th>weighted_monthly_return</th>\n",
       "    </tr>\n",
       "  </thead>\n",
       "  <tbody>\n",
       "    <tr>\n",
       "      <th>469066</th>\n",
       "      <td>13007</td>\n",
       "      <td>10000</td>\n",
       "      <td>OPTIMUM MANUFACTURING INC</td>\n",
       "      <td>1987-01-29</td>\n",
       "      <td>1987</td>\n",
       "      <td>1987-05-29</td>\n",
       "      <td>2.88225</td>\n",
       "      <td>0.039</td>\n",
       "      <td>0.039</td>\n",
       "      <td>0.013531</td>\n",
       "      <td>0.21875</td>\n",
       "      <td>-0.070467</td>\n",
       "      <td>3893.0</td>\n",
       "      <td>1</td>\n",
       "      <td>851.59375</td>\n",
       "      <td>912.44134</td>\n",
       "      <td>1.733448e+08</td>\n",
       "      <td>0.000005</td>\n",
       "      <td>-3.709196e-07</td>\n",
       "    </tr>\n",
       "    <tr>\n",
       "      <th>458844</th>\n",
       "      <td>12994</td>\n",
       "      <td>10001</td>\n",
       "      <td>GREAT FALLS GAS CO</td>\n",
       "      <td>1986-09-28</td>\n",
       "      <td>1987</td>\n",
       "      <td>1987-05-29</td>\n",
       "      <td>5.91000</td>\n",
       "      <td>0.000</td>\n",
       "      <td>0.000</td>\n",
       "      <td>0.000000</td>\n",
       "      <td>5.68750</td>\n",
       "      <td>-0.075229</td>\n",
       "      <td>991.0</td>\n",
       "      <td>0</td>\n",
       "      <td>5636.31250</td>\n",
       "      <td>6069.87500</td>\n",
       "      <td>9.223191e+08</td>\n",
       "      <td>0.000007</td>\n",
       "      <td>-4.950896e-07</td>\n",
       "    </tr>\n",
       "  </tbody>\n",
       "</table>\n",
       "</div>"
      ],
      "text/plain": [
       "        GVKEY  PERMNO               company_name yearly_date  fyear  \\\n",
       "469066  13007   10000  OPTIMUM MANUFACTURING INC  1987-01-29   1987   \n",
       "458844  12994   10001         GREAT FALLS GAS CO  1986-09-28   1987   \n",
       "\n",
       "       monthly_date  mktvaleq    xrd    rdc  rdc_mktvaleq  monthly_price  \\\n",
       "469066   1987-05-29   2.88225  0.039  0.039      0.013531        0.21875   \n",
       "458844   1987-05-29   5.91000  0.000  0.000      0.000000        5.68750   \n",
       "\n",
       "        monthly_return  shares_outstanding quintile  monthly_mktvaleq  \\\n",
       "469066       -0.070467              3893.0        1         851.59375   \n",
       "458844       -0.075229               991.0        0        5636.31250   \n",
       "\n",
       "        lagged_monthly_mktvaleq  sum_lagged_monthly_mktvaleq    weight  \\\n",
       "469066                912.44134                 1.733448e+08  0.000005   \n",
       "458844               6069.87500                 9.223191e+08  0.000007   \n",
       "\n",
       "        weighted_monthly_return  \n",
       "469066            -3.709196e-07  \n",
       "458844            -4.950896e-07  "
      ]
     },
     "execution_count": 11,
     "metadata": {},
     "output_type": "execute_result"
    }
   ],
   "source": [
    "# add a column for the monthly market value of equity for each firm (Monthly Price * Shares Outstanding)\n",
    "all_quant['monthly_mktvaleq'] = all_quant['monthly_price'] * all_quant['shares_outstanding']\n",
    "# sort the data by PERMNO and monthly_date for easier viewing\n",
    "all_quant = all_quant.sort_values(['PERMNO', 'monthly_date'])\n",
    "# add a column for lagged monthly market value of equity (group by firm and quintile and shift by 1 month)\n",
    "all_quant['lagged_monthly_mktvaleq'] = all_quant.groupby(['PERMNO', 'quintile'])['monthly_mktvaleq'].shift(1)\n",
    "# drop the nan values from shifting (first month of each firm, most are in 1975 so won't effect results)\n",
    "all_quant.dropna(subset=['lagged_monthly_mktvaleq'], inplace=True)\n",
    "\n",
    "# Add a column for the sum of lagged monthly market value of equity (group by month and quintile)\n",
    "# Transform method is used to give each row it's corrrect sum of lagged monthly market value of equity (by month and quintile)\n",
    "all_quant['sum_lagged_monthly_mktvaleq'] = all_quant.groupby(['monthly_date', 'quintile'])['lagged_monthly_mktvaleq'].transform('sum')\n",
    "\n",
    "# add a column with the weight of each firm in the value weighted portfolio\n",
    "# This will allows us to calculate the value weighted returns which is:\n",
    "#    (lagged monthly market value of equity / total of lagged monthly market value of equity (by month and quintile)) * monthly return\n",
    "all_quant['weight'] = all_quant['lagged_monthly_mktvaleq'] / all_quant['sum_lagged_monthly_mktvaleq']\n",
    "\n",
    "# weighted returns are the monthly returns * the weight for the firm for the month\n",
    "all_quant['weighted_monthly_return'] = all_quant['monthly_return'] * all_quant['weight']\n",
    "\n",
    "all_quant.head(2)"
   ]
  },
  {
   "cell_type": "markdown",
   "metadata": {},
   "source": [
    "### Function to get the equally weighted returns by month and quintile"
   ]
  },
  {
   "cell_type": "code",
   "execution_count": 12,
   "metadata": {},
   "outputs": [],
   "source": [
    "def get_equal_weighted(df, start, end):\n",
    "    '''\n",
    "        Parameters:\n",
    "            df: DataFrame with all the quintiles and returns for each firm for each month\n",
    "            start: The first date in the time period\n",
    "            end: The last date in the time period\n",
    "        Returns:\n",
    "            equal_returns: DataFrame with the equal weighted returns for each quintile in the time period\n",
    "            monthly_return: DataFrame with the monthly returns for each month per quintile in the time period\n",
    "    '''\n",
    "\n",
    "    # filter data for the specific time period\n",
    "    df = df[(df['monthly_date'] >= start) & (df['monthly_date'] <= end)]\n",
    "\n",
    "    # get the monthly returns for each month per quintile (mean for equal weighted returns)\n",
    "    monthly_return = df.groupby(['quintile', 'monthly_date'])['monthly_return'].mean().reset_index()\n",
    "\n",
    "    # sort the values by quintile and monthly_date for easier viewing when returned\n",
    "    monthly_return.sort_values(['quintile', 'monthly_date'], inplace=True)\n",
    "\n",
    "    # get the equal weighted returns for each quintile (mean of monthly returns per quintile)\n",
    "    equal_returns = monthly_return.groupby('quintile')['monthly_return'].mean().reset_index()\n",
    "    \n",
    "    # reformat the monthly_returns column to be in percent\n",
    "    equal_returns['monthly_return'] = equal_returns['monthly_return'] * 100\n",
    "\n",
    "    # print start and end date for time period, easier to understand when looking at the results\n",
    "    print(start, end)\n",
    "    \n",
    "    return equal_returns, monthly_return"
   ]
  },
  {
   "cell_type": "markdown",
   "metadata": {},
   "source": [
    "## Equally Weighted Results (1981-2012, 1981-1999, 2000-2012)"
   ]
  },
  {
   "cell_type": "markdown",
   "metadata": {},
   "source": [
    "### Equally Weighted Results (1981-2012)"
   ]
  },
  {
   "cell_type": "code",
   "execution_count": 13,
   "metadata": {},
   "outputs": [
    {
     "name": "stdout",
     "output_type": "stream",
     "text": [
      "1981-07-01 2012-12-31\n"
     ]
    },
    {
     "data": {
      "text/html": [
       "<div>\n",
       "<style scoped>\n",
       "    .dataframe tbody tr th:only-of-type {\n",
       "        vertical-align: middle;\n",
       "    }\n",
       "\n",
       "    .dataframe tbody tr th {\n",
       "        vertical-align: top;\n",
       "    }\n",
       "\n",
       "    .dataframe thead th {\n",
       "        text-align: right;\n",
       "    }\n",
       "</style>\n",
       "<table border=\"1\" class=\"dataframe\">\n",
       "  <thead>\n",
       "    <tr style=\"text-align: right;\">\n",
       "      <th></th>\n",
       "      <th>quintile</th>\n",
       "      <th>monthly_return</th>\n",
       "    </tr>\n",
       "  </thead>\n",
       "  <tbody>\n",
       "    <tr>\n",
       "      <th>0</th>\n",
       "      <td>0</td>\n",
       "      <td>0.711636</td>\n",
       "    </tr>\n",
       "    <tr>\n",
       "      <th>1</th>\n",
       "      <td>1</td>\n",
       "      <td>0.265736</td>\n",
       "    </tr>\n",
       "    <tr>\n",
       "      <th>2</th>\n",
       "      <td>2</td>\n",
       "      <td>0.614688</td>\n",
       "    </tr>\n",
       "    <tr>\n",
       "      <th>3</th>\n",
       "      <td>3</td>\n",
       "      <td>0.871093</td>\n",
       "    </tr>\n",
       "    <tr>\n",
       "      <th>4</th>\n",
       "      <td>4</td>\n",
       "      <td>1.146084</td>\n",
       "    </tr>\n",
       "    <tr>\n",
       "      <th>5</th>\n",
       "      <td>5</td>\n",
       "      <td>1.761361</td>\n",
       "    </tr>\n",
       "  </tbody>\n",
       "</table>\n",
       "</div>"
      ],
      "text/plain": [
       "   quintile  monthly_return\n",
       "0         0        0.711636\n",
       "1         1        0.265736\n",
       "2         2        0.614688\n",
       "3         3        0.871093\n",
       "4         4        1.146084\n",
       "5         5        1.761361"
      ]
     },
     "execution_count": 13,
     "metadata": {},
     "output_type": "execute_result"
    }
   ],
   "source": [
    "equal_returns_1981_2012, equal_monthly_returns_1981_2012 = get_equal_weighted(all_quant, '1981-07-01', '2012-12-31')\n",
    "equal_returns_1981_2012"
   ]
  },
  {
   "cell_type": "markdown",
   "metadata": {},
   "source": [
    "### Equally Weighted Results (1981-1999)"
   ]
  },
  {
   "cell_type": "code",
   "execution_count": 14,
   "metadata": {},
   "outputs": [
    {
     "name": "stdout",
     "output_type": "stream",
     "text": [
      "1981-07-01 1999-12-31\n"
     ]
    },
    {
     "data": {
      "text/html": [
       "<div>\n",
       "<style scoped>\n",
       "    .dataframe tbody tr th:only-of-type {\n",
       "        vertical-align: middle;\n",
       "    }\n",
       "\n",
       "    .dataframe tbody tr th {\n",
       "        vertical-align: top;\n",
       "    }\n",
       "\n",
       "    .dataframe thead th {\n",
       "        text-align: right;\n",
       "    }\n",
       "</style>\n",
       "<table border=\"1\" class=\"dataframe\">\n",
       "  <thead>\n",
       "    <tr style=\"text-align: right;\">\n",
       "      <th></th>\n",
       "      <th>quintile</th>\n",
       "      <th>monthly_return</th>\n",
       "    </tr>\n",
       "  </thead>\n",
       "  <tbody>\n",
       "    <tr>\n",
       "      <th>0</th>\n",
       "      <td>0</td>\n",
       "      <td>0.572603</td>\n",
       "    </tr>\n",
       "    <tr>\n",
       "      <th>1</th>\n",
       "      <td>1</td>\n",
       "      <td>0.244928</td>\n",
       "    </tr>\n",
       "    <tr>\n",
       "      <th>2</th>\n",
       "      <td>2</td>\n",
       "      <td>0.623063</td>\n",
       "    </tr>\n",
       "    <tr>\n",
       "      <th>3</th>\n",
       "      <td>3</td>\n",
       "      <td>0.872895</td>\n",
       "    </tr>\n",
       "    <tr>\n",
       "      <th>4</th>\n",
       "      <td>4</td>\n",
       "      <td>1.132175</td>\n",
       "    </tr>\n",
       "    <tr>\n",
       "      <th>5</th>\n",
       "      <td>5</td>\n",
       "      <td>1.708383</td>\n",
       "    </tr>\n",
       "  </tbody>\n",
       "</table>\n",
       "</div>"
      ],
      "text/plain": [
       "   quintile  monthly_return\n",
       "0         0        0.572603\n",
       "1         1        0.244928\n",
       "2         2        0.623063\n",
       "3         3        0.872895\n",
       "4         4        1.132175\n",
       "5         5        1.708383"
      ]
     },
     "execution_count": 14,
     "metadata": {},
     "output_type": "execute_result"
    }
   ],
   "source": [
    "equal_returns_1981_1999, equal_monthly_returns_1981_1999 = get_equal_weighted(all_quant, '1981-07-01', '1999-12-31')\n",
    "equal_returns_1981_1999"
   ]
  },
  {
   "cell_type": "markdown",
   "metadata": {},
   "source": [
    "### Equally Weighted Results (2000-2012)"
   ]
  },
  {
   "cell_type": "code",
   "execution_count": 15,
   "metadata": {},
   "outputs": [
    {
     "name": "stdout",
     "output_type": "stream",
     "text": [
      "2000-01-01 2012-12-31\n"
     ]
    },
    {
     "data": {
      "text/html": [
       "<div>\n",
       "<style scoped>\n",
       "    .dataframe tbody tr th:only-of-type {\n",
       "        vertical-align: middle;\n",
       "    }\n",
       "\n",
       "    .dataframe tbody tr th {\n",
       "        vertical-align: top;\n",
       "    }\n",
       "\n",
       "    .dataframe thead th {\n",
       "        text-align: right;\n",
       "    }\n",
       "</style>\n",
       "<table border=\"1\" class=\"dataframe\">\n",
       "  <thead>\n",
       "    <tr style=\"text-align: right;\">\n",
       "      <th></th>\n",
       "      <th>quintile</th>\n",
       "      <th>monthly_return</th>\n",
       "    </tr>\n",
       "  </thead>\n",
       "  <tbody>\n",
       "    <tr>\n",
       "      <th>0</th>\n",
       "      <td>0</td>\n",
       "      <td>0.909491</td>\n",
       "    </tr>\n",
       "    <tr>\n",
       "      <th>1</th>\n",
       "      <td>1</td>\n",
       "      <td>0.295346</td>\n",
       "    </tr>\n",
       "    <tr>\n",
       "      <th>2</th>\n",
       "      <td>2</td>\n",
       "      <td>0.602771</td>\n",
       "    </tr>\n",
       "    <tr>\n",
       "      <th>3</th>\n",
       "      <td>3</td>\n",
       "      <td>0.868530</td>\n",
       "    </tr>\n",
       "    <tr>\n",
       "      <th>4</th>\n",
       "      <td>4</td>\n",
       "      <td>1.165878</td>\n",
       "    </tr>\n",
       "    <tr>\n",
       "      <th>5</th>\n",
       "      <td>5</td>\n",
       "      <td>1.836754</td>\n",
       "    </tr>\n",
       "  </tbody>\n",
       "</table>\n",
       "</div>"
      ],
      "text/plain": [
       "   quintile  monthly_return\n",
       "0         0        0.909491\n",
       "1         1        0.295346\n",
       "2         2        0.602771\n",
       "3         3        0.868530\n",
       "4         4        1.165878\n",
       "5         5        1.836754"
      ]
     },
     "execution_count": 15,
     "metadata": {},
     "output_type": "execute_result"
    }
   ],
   "source": [
    "equal_returns_2000_2012, equal_monthly_returns_2000_2012 = get_equal_weighted(all_quant, '2000-01-01', '2012-12-31')\n",
    "equal_returns_2000_2012"
   ]
  },
  {
   "cell_type": "markdown",
   "metadata": {},
   "source": [
    "### Equally Weighted Results (1981-2012) per Month"
   ]
  },
  {
   "cell_type": "markdown",
   "metadata": {},
   "source": [
    "This allows me to create the High - Low column for the regressions by subtracting the low quintile from the high quintile for each month."
   ]
  },
  {
   "cell_type": "code",
   "execution_count": 16,
   "metadata": {},
   "outputs": [
    {
     "data": {
      "text/html": [
       "<div>\n",
       "<style scoped>\n",
       "    .dataframe tbody tr th:only-of-type {\n",
       "        vertical-align: middle;\n",
       "    }\n",
       "\n",
       "    .dataframe tbody tr th {\n",
       "        vertical-align: top;\n",
       "    }\n",
       "\n",
       "    .dataframe thead th {\n",
       "        text-align: right;\n",
       "    }\n",
       "</style>\n",
       "<table border=\"1\" class=\"dataframe\">\n",
       "  <thead>\n",
       "    <tr style=\"text-align: right;\">\n",
       "      <th>quintile</th>\n",
       "      <th>monthly_date</th>\n",
       "      <th>0</th>\n",
       "      <th>1</th>\n",
       "      <th>2</th>\n",
       "      <th>3</th>\n",
       "      <th>4</th>\n",
       "      <th>5</th>\n",
       "      <th>High - Low</th>\n",
       "    </tr>\n",
       "  </thead>\n",
       "  <tbody>\n",
       "    <tr>\n",
       "      <th>0</th>\n",
       "      <td>1981-07-31</td>\n",
       "      <td>-0.025439</td>\n",
       "      <td>-0.025538</td>\n",
       "      <td>-0.049509</td>\n",
       "      <td>-0.039951</td>\n",
       "      <td>-0.044144</td>\n",
       "      <td>-0.052400</td>\n",
       "      <td>-0.026862</td>\n",
       "    </tr>\n",
       "    <tr>\n",
       "      <th>1</th>\n",
       "      <td>1981-08-31</td>\n",
       "      <td>-0.078088</td>\n",
       "      <td>-0.097306</td>\n",
       "      <td>-0.098097</td>\n",
       "      <td>-0.105482</td>\n",
       "      <td>-0.110519</td>\n",
       "      <td>-0.097209</td>\n",
       "      <td>0.000097</td>\n",
       "    </tr>\n",
       "    <tr>\n",
       "      <th>2</th>\n",
       "      <td>1981-09-30</td>\n",
       "      <td>-0.099894</td>\n",
       "      <td>-0.114615</td>\n",
       "      <td>-0.102884</td>\n",
       "      <td>-0.087690</td>\n",
       "      <td>-0.093217</td>\n",
       "      <td>-0.099878</td>\n",
       "      <td>0.014737</td>\n",
       "    </tr>\n",
       "    <tr>\n",
       "      <th>3</th>\n",
       "      <td>1981-10-30</td>\n",
       "      <td>0.054894</td>\n",
       "      <td>0.087470</td>\n",
       "      <td>0.072907</td>\n",
       "      <td>0.075323</td>\n",
       "      <td>0.064404</td>\n",
       "      <td>0.056069</td>\n",
       "      <td>-0.031401</td>\n",
       "    </tr>\n",
       "    <tr>\n",
       "      <th>4</th>\n",
       "      <td>1981-11-30</td>\n",
       "      <td>0.006888</td>\n",
       "      <td>0.004924</td>\n",
       "      <td>0.005925</td>\n",
       "      <td>0.026594</td>\n",
       "      <td>0.011648</td>\n",
       "      <td>0.006884</td>\n",
       "      <td>0.001960</td>\n",
       "    </tr>\n",
       "    <tr>\n",
       "      <th>...</th>\n",
       "      <td>...</td>\n",
       "      <td>...</td>\n",
       "      <td>...</td>\n",
       "      <td>...</td>\n",
       "      <td>...</td>\n",
       "      <td>...</td>\n",
       "      <td>...</td>\n",
       "      <td>...</td>\n",
       "    </tr>\n",
       "    <tr>\n",
       "      <th>373</th>\n",
       "      <td>2012-08-31</td>\n",
       "      <td>0.028908</td>\n",
       "      <td>0.028328</td>\n",
       "      <td>0.037038</td>\n",
       "      <td>0.033323</td>\n",
       "      <td>0.014227</td>\n",
       "      <td>0.030937</td>\n",
       "      <td>0.002609</td>\n",
       "    </tr>\n",
       "    <tr>\n",
       "      <th>374</th>\n",
       "      <td>2012-09-28</td>\n",
       "      <td>0.042242</td>\n",
       "      <td>0.036323</td>\n",
       "      <td>0.029659</td>\n",
       "      <td>0.046601</td>\n",
       "      <td>0.026806</td>\n",
       "      <td>0.042816</td>\n",
       "      <td>0.006493</td>\n",
       "    </tr>\n",
       "    <tr>\n",
       "      <th>375</th>\n",
       "      <td>2012-10-31</td>\n",
       "      <td>-0.012773</td>\n",
       "      <td>-0.015321</td>\n",
       "      <td>-0.016445</td>\n",
       "      <td>-0.021461</td>\n",
       "      <td>-0.044131</td>\n",
       "      <td>-0.062519</td>\n",
       "      <td>-0.047198</td>\n",
       "    </tr>\n",
       "    <tr>\n",
       "      <th>376</th>\n",
       "      <td>2012-11-30</td>\n",
       "      <td>-0.004751</td>\n",
       "      <td>0.016876</td>\n",
       "      <td>0.004029</td>\n",
       "      <td>0.005597</td>\n",
       "      <td>0.012600</td>\n",
       "      <td>0.026185</td>\n",
       "      <td>0.009310</td>\n",
       "    </tr>\n",
       "    <tr>\n",
       "      <th>377</th>\n",
       "      <td>2012-12-31</td>\n",
       "      <td>0.022602</td>\n",
       "      <td>0.031787</td>\n",
       "      <td>0.027274</td>\n",
       "      <td>0.033404</td>\n",
       "      <td>0.041496</td>\n",
       "      <td>0.009611</td>\n",
       "      <td>-0.022176</td>\n",
       "    </tr>\n",
       "  </tbody>\n",
       "</table>\n",
       "<p>378 rows × 8 columns</p>\n",
       "</div>"
      ],
      "text/plain": [
       "quintile monthly_date         0         1         2         3         4  \\\n",
       "0          1981-07-31 -0.025439 -0.025538 -0.049509 -0.039951 -0.044144   \n",
       "1          1981-08-31 -0.078088 -0.097306 -0.098097 -0.105482 -0.110519   \n",
       "2          1981-09-30 -0.099894 -0.114615 -0.102884 -0.087690 -0.093217   \n",
       "3          1981-10-30  0.054894  0.087470  0.072907  0.075323  0.064404   \n",
       "4          1981-11-30  0.006888  0.004924  0.005925  0.026594  0.011648   \n",
       "..                ...       ...       ...       ...       ...       ...   \n",
       "373        2012-08-31  0.028908  0.028328  0.037038  0.033323  0.014227   \n",
       "374        2012-09-28  0.042242  0.036323  0.029659  0.046601  0.026806   \n",
       "375        2012-10-31 -0.012773 -0.015321 -0.016445 -0.021461 -0.044131   \n",
       "376        2012-11-30 -0.004751  0.016876  0.004029  0.005597  0.012600   \n",
       "377        2012-12-31  0.022602  0.031787  0.027274  0.033404  0.041496   \n",
       "\n",
       "quintile         5  High - Low  \n",
       "0        -0.052400   -0.026862  \n",
       "1        -0.097209    0.000097  \n",
       "2        -0.099878    0.014737  \n",
       "3         0.056069   -0.031401  \n",
       "4         0.006884    0.001960  \n",
       "..             ...         ...  \n",
       "373       0.030937    0.002609  \n",
       "374       0.042816    0.006493  \n",
       "375      -0.062519   -0.047198  \n",
       "376       0.026185    0.009310  \n",
       "377       0.009611   -0.022176  \n",
       "\n",
       "[378 rows x 8 columns]"
      ]
     },
     "execution_count": 16,
     "metadata": {},
     "output_type": "execute_result"
    }
   ],
   "source": [
    "# pivot makes each quintile a column and the monthly returns the values\n",
    "total_equal_1981_2012 = equal_monthly_returns_1981_2012.pivot(index='monthly_date', columns='quintile', values='monthly_return')\n",
    "# resets the index so that the monthly_date is a column again\n",
    "total_equal_1981_2012 = total_equal_1981_2012.reset_index()\n",
    "# create the high - low column by subtracting the low quintile (1) from the high quintile (5)\n",
    "total_equal_1981_2012['High - Low'] = total_equal_1981_2012[5] - total_equal_1981_2012[1]\n",
    "total_equal_1981_2012"
   ]
  },
  {
   "cell_type": "markdown",
   "metadata": {},
   "source": [
    "### Fama French Data: 1981 - 2012 (Equally Weighted)"
   ]
  },
  {
   "cell_type": "code",
   "execution_count": 17,
   "metadata": {},
   "outputs": [
    {
     "data": {
      "text/html": [
       "<div>\n",
       "<style scoped>\n",
       "    .dataframe tbody tr th:only-of-type {\n",
       "        vertical-align: middle;\n",
       "    }\n",
       "\n",
       "    .dataframe tbody tr th {\n",
       "        vertical-align: top;\n",
       "    }\n",
       "\n",
       "    .dataframe thead th {\n",
       "        text-align: right;\n",
       "    }\n",
       "</style>\n",
       "<table border=\"1\" class=\"dataframe\">\n",
       "  <thead>\n",
       "    <tr style=\"text-align: right;\">\n",
       "      <th></th>\n",
       "      <th>year_month</th>\n",
       "      <th>Mkt-RF</th>\n",
       "      <th>SMB</th>\n",
       "      <th>HML</th>\n",
       "      <th>RF</th>\n",
       "      <th>year</th>\n",
       "      <th>month</th>\n",
       "      <th>High - Low</th>\n",
       "    </tr>\n",
       "  </thead>\n",
       "  <tbody>\n",
       "    <tr>\n",
       "      <th>0</th>\n",
       "      <td>1981-07</td>\n",
       "      <td>-1.54</td>\n",
       "      <td>-2.19</td>\n",
       "      <td>-0.50</td>\n",
       "      <td>0.0124</td>\n",
       "      <td>1981</td>\n",
       "      <td>7</td>\n",
       "      <td>-0.026862</td>\n",
       "    </tr>\n",
       "    <tr>\n",
       "      <th>1</th>\n",
       "      <td>1981-08</td>\n",
       "      <td>-7.04</td>\n",
       "      <td>-1.95</td>\n",
       "      <td>4.76</td>\n",
       "      <td>0.0128</td>\n",
       "      <td>1981</td>\n",
       "      <td>8</td>\n",
       "      <td>0.000097</td>\n",
       "    </tr>\n",
       "  </tbody>\n",
       "</table>\n",
       "</div>"
      ],
      "text/plain": [
       "  year_month  Mkt-RF   SMB   HML      RF  year  month  High - Low\n",
       "0    1981-07   -1.54 -2.19 -0.50  0.0124  1981      7   -0.026862\n",
       "1    1981-08   -7.04 -1.95  4.76  0.0128  1981      8    0.000097"
      ]
     },
     "execution_count": 17,
     "metadata": {},
     "output_type": "execute_result"
    }
   ],
   "source": [
    "# filter fama french data for the time period\n",
    "fama_french_1981_2012 = fama_french[(fama_french['year_month'] >= '1981-07') & (fama_french['year_month'] <= '2012-12')].reset_index(drop=True)\n",
    "# add the high - low column to the fama french data to make it easier to run the regressions\n",
    "fama_french_1981_2012['High - Low'] = total_equal_1981_2012['High - Low']\n",
    "fama_french_1981_2012.head(2)"
   ]
  },
  {
   "cell_type": "markdown",
   "metadata": {},
   "source": [
    "### CAPM Alpha: 1981 - 2012 (Equal Weighted)"
   ]
  },
  {
   "cell_type": "code",
   "execution_count": 18,
   "metadata": {},
   "outputs": [
    {
     "name": "stdout",
     "output_type": "stream",
     "text": [
      "CAPM Alpha for 1981-2012 (Monthly): 1.4372%\n",
      "T-statistic for CAPM Alpha for 1981-2012 (Monthly): 5.691\n"
     ]
    }
   ],
   "source": [
    "# Regress the high - low column on the market risk premium to find the CAPM alpha\n",
    "X = fama_french_1981_2012['Mkt-RF']\n",
    "y = fama_french_1981_2012['High - Low']\n",
    "\n",
    "X = sm.add_constant(X)\n",
    "model = sm.OLS(y, X)\n",
    "results = model.fit()\n",
    "\n",
    "print('CAPM Alpha for 1981-2012 (Monthly):', str(round(results.params[0] * 100, 4)) + '%')\n",
    "print('T-statistic for CAPM Alpha for 1981-2012 (Monthly):', round(results.tvalues[0], 4))"
   ]
  },
  {
   "cell_type": "markdown",
   "metadata": {},
   "source": [
    "### Fama French 3 Factors Alpha: 1981 - 2012 (Equal Weighted)"
   ]
  },
  {
   "cell_type": "code",
   "execution_count": 19,
   "metadata": {},
   "outputs": [
    {
     "name": "stdout",
     "output_type": "stream",
     "text": [
      "Fama French 3 Factor Alpha for 1981-2012 (Monthly): 1.4141%\n",
      "T-statistic for Fama French 3 Factor Alpha for 1981-2012 (Monthly): 6.3006\n"
     ]
    }
   ],
   "source": [
    "# Regress the high - low column on the market risk premium, SMB and HML to find the FF3 Factor alpha\n",
    "X = fama_french_1981_2012[['Mkt-RF', 'SMB', 'HML']]\n",
    "y = fama_french_1981_2012['High - Low']\n",
    "\n",
    "X = sm.add_constant(X)\n",
    "model = sm.OLS(y, X)\n",
    "results = model.fit()\n",
    "\n",
    "print('Fama French 3 Factor Alpha for 1981-2012 (Monthly):', str(round(results.params[0] * 100, 4)) + '%')\n",
    "print('T-statistic for Fama French 3 Factor Alpha for 1981-2012 (Monthly):', round(results.tvalues[0], 4))"
   ]
  },
  {
   "cell_type": "markdown",
   "metadata": {},
   "source": [
    "### Sharpe Ratio: 1981 - 2012 (Equal Weighted)"
   ]
  },
  {
   "cell_type": "code",
   "execution_count": 20,
   "metadata": {},
   "outputs": [
    {
     "name": "stdout",
     "output_type": "stream",
     "text": [
      "Annualized Sharpe Ratio for 1981-2012 (Annual): 1.0599\n"
     ]
    }
   ],
   "source": [
    "# compute the sharpe ratio for the high - low column (mean / standard deviation)\n",
    "mean_high_low = fama_french_1981_2012['High - Low'].mean()\n",
    "std_high_low = fama_french_1981_2012['High - Low'].std()\n",
    "\n",
    "# multiply by sqrt(12) to get the annualized sharpe ratio\n",
    "annualized_sharpe_ratio = (mean_high_low / std_high_low) * np.sqrt(12)\n",
    "\n",
    "print('Annualized Sharpe Ratio for 1981-2012 (Annual):', round(annualized_sharpe_ratio, 4))"
   ]
  },
  {
   "cell_type": "markdown",
   "metadata": {},
   "source": [
    "## Value Weighted Results (1981-2012, 1981-1999, 2000-2012)"
   ]
  },
  {
   "cell_type": "markdown",
   "metadata": {},
   "source": [
    "### Function to get the value weighted returns by month and quintile"
   ]
  },
  {
   "cell_type": "code",
   "execution_count": 21,
   "metadata": {},
   "outputs": [],
   "source": [
    "def get_value_weighted(df, start, end):\n",
    "    '''\n",
    "        Parameters: \n",
    "            df: DataFrame with all the quintiles and returns for each firm for each month\n",
    "            start: The first date in the time period\n",
    "            end: The last date in the time period\n",
    "        Returns:\n",
    "            value_returns: DataFrame with the value weighted returns for each quintile in the time period\n",
    "            monthly_return: DataFrame with the monthly returns for each month per quintile in the time period\n",
    "    \n",
    "    '''\n",
    "    # filter data for the specific time period\n",
    "    df = df[(df['monthly_date'] >= start) & (df['monthly_date'] <= end)]\n",
    "\n",
    "    # get the monthly returns for each month per quintile (sum of weighted monthly return) \n",
    "    monthly_return = df.groupby(['quintile', 'monthly_date'])['weighted_monthly_return'].sum().reset_index()\n",
    "\n",
    "    # get the value weighted returns for each quintile (mean of weighted monthly return per quintile)\n",
    "    # its the mean because the weighted monthly returns are the same for each quintile\n",
    "    value_returns = monthly_return.groupby('quintile')['weighted_monthly_return'].mean().reset_index()\n",
    "\n",
    "    # reformat the weighted_monthly_returns column to be in percent\n",
    "    value_returns['weighted_monthly_return'] = value_returns['weighted_monthly_return'] * 100\n",
    "\n",
    "    # print start and end date for time period, easier to understand when looking at the results\n",
    "    print(start, end)\n",
    "    return value_returns, monthly_return\n"
   ]
  },
  {
   "cell_type": "markdown",
   "metadata": {},
   "source": [
    "### Value Weighted Results (1981-2012)"
   ]
  },
  {
   "cell_type": "code",
   "execution_count": 22,
   "metadata": {},
   "outputs": [
    {
     "name": "stdout",
     "output_type": "stream",
     "text": [
      "1981-07-01 2012-12-31\n"
     ]
    },
    {
     "data": {
      "text/html": [
       "<div>\n",
       "<style scoped>\n",
       "    .dataframe tbody tr th:only-of-type {\n",
       "        vertical-align: middle;\n",
       "    }\n",
       "\n",
       "    .dataframe tbody tr th {\n",
       "        vertical-align: top;\n",
       "    }\n",
       "\n",
       "    .dataframe thead th {\n",
       "        text-align: right;\n",
       "    }\n",
       "</style>\n",
       "<table border=\"1\" class=\"dataframe\">\n",
       "  <thead>\n",
       "    <tr style=\"text-align: right;\">\n",
       "      <th></th>\n",
       "      <th>quintile</th>\n",
       "      <th>weighted_monthly_return</th>\n",
       "    </tr>\n",
       "  </thead>\n",
       "  <tbody>\n",
       "    <tr>\n",
       "      <th>0</th>\n",
       "      <td>0</td>\n",
       "      <td>0.551550</td>\n",
       "    </tr>\n",
       "    <tr>\n",
       "      <th>1</th>\n",
       "      <td>1</td>\n",
       "      <td>0.458164</td>\n",
       "    </tr>\n",
       "    <tr>\n",
       "      <th>2</th>\n",
       "      <td>2</td>\n",
       "      <td>0.615012</td>\n",
       "    </tr>\n",
       "    <tr>\n",
       "      <th>3</th>\n",
       "      <td>3</td>\n",
       "      <td>0.687071</td>\n",
       "    </tr>\n",
       "    <tr>\n",
       "      <th>4</th>\n",
       "      <td>4</td>\n",
       "      <td>0.898108</td>\n",
       "    </tr>\n",
       "    <tr>\n",
       "      <th>5</th>\n",
       "      <td>5</td>\n",
       "      <td>0.991629</td>\n",
       "    </tr>\n",
       "  </tbody>\n",
       "</table>\n",
       "</div>"
      ],
      "text/plain": [
       "   quintile  weighted_monthly_return\n",
       "0         0                 0.551550\n",
       "1         1                 0.458164\n",
       "2         2                 0.615012\n",
       "3         3                 0.687071\n",
       "4         4                 0.898108\n",
       "5         5                 0.991629"
      ]
     },
     "execution_count": 22,
     "metadata": {},
     "output_type": "execute_result"
    }
   ],
   "source": [
    "value_return_1981_2012, value_monthly_returns_1981_2012 = get_value_weighted(all_quant, '1981-07-01', '2012-12-31')\n",
    "value_return_1981_2012"
   ]
  },
  {
   "cell_type": "markdown",
   "metadata": {},
   "source": [
    "### Value Weighted Results (1981-1999)"
   ]
  },
  {
   "cell_type": "code",
   "execution_count": 23,
   "metadata": {},
   "outputs": [
    {
     "name": "stdout",
     "output_type": "stream",
     "text": [
      "1981-07-01 1999-12-31\n"
     ]
    },
    {
     "data": {
      "text/html": [
       "<div>\n",
       "<style scoped>\n",
       "    .dataframe tbody tr th:only-of-type {\n",
       "        vertical-align: middle;\n",
       "    }\n",
       "\n",
       "    .dataframe tbody tr th {\n",
       "        vertical-align: top;\n",
       "    }\n",
       "\n",
       "    .dataframe thead th {\n",
       "        text-align: right;\n",
       "    }\n",
       "</style>\n",
       "<table border=\"1\" class=\"dataframe\">\n",
       "  <thead>\n",
       "    <tr style=\"text-align: right;\">\n",
       "      <th></th>\n",
       "      <th>quintile</th>\n",
       "      <th>weighted_monthly_return</th>\n",
       "    </tr>\n",
       "  </thead>\n",
       "  <tbody>\n",
       "    <tr>\n",
       "      <th>0</th>\n",
       "      <td>0</td>\n",
       "      <td>0.764954</td>\n",
       "    </tr>\n",
       "    <tr>\n",
       "      <th>1</th>\n",
       "      <td>1</td>\n",
       "      <td>0.698426</td>\n",
       "    </tr>\n",
       "    <tr>\n",
       "      <th>2</th>\n",
       "      <td>2</td>\n",
       "      <td>0.995817</td>\n",
       "    </tr>\n",
       "    <tr>\n",
       "      <th>3</th>\n",
       "      <td>3</td>\n",
       "      <td>1.084824</td>\n",
       "    </tr>\n",
       "    <tr>\n",
       "      <th>4</th>\n",
       "      <td>4</td>\n",
       "      <td>1.081853</td>\n",
       "    </tr>\n",
       "    <tr>\n",
       "      <th>5</th>\n",
       "      <td>5</td>\n",
       "      <td>1.181369</td>\n",
       "    </tr>\n",
       "  </tbody>\n",
       "</table>\n",
       "</div>"
      ],
      "text/plain": [
       "   quintile  weighted_monthly_return\n",
       "0         0                 0.764954\n",
       "1         1                 0.698426\n",
       "2         2                 0.995817\n",
       "3         3                 1.084824\n",
       "4         4                 1.081853\n",
       "5         5                 1.181369"
      ]
     },
     "execution_count": 23,
     "metadata": {},
     "output_type": "execute_result"
    }
   ],
   "source": [
    "value_return_1981_1999, value_monthly_returns_1981_1999 = get_value_weighted(all_quant, '1981-07-01', '1999-12-31')\n",
    "value_return_1981_1999"
   ]
  },
  {
   "cell_type": "markdown",
   "metadata": {},
   "source": [
    "### Value Weighted Results (2000-2012)"
   ]
  },
  {
   "cell_type": "code",
   "execution_count": 24,
   "metadata": {},
   "outputs": [
    {
     "name": "stdout",
     "output_type": "stream",
     "text": [
      "2000-01-01 2012-12-31\n"
     ]
    },
    {
     "data": {
      "text/html": [
       "<div>\n",
       "<style scoped>\n",
       "    .dataframe tbody tr th:only-of-type {\n",
       "        vertical-align: middle;\n",
       "    }\n",
       "\n",
       "    .dataframe tbody tr th {\n",
       "        vertical-align: top;\n",
       "    }\n",
       "\n",
       "    .dataframe thead th {\n",
       "        text-align: right;\n",
       "    }\n",
       "</style>\n",
       "<table border=\"1\" class=\"dataframe\">\n",
       "  <thead>\n",
       "    <tr style=\"text-align: right;\">\n",
       "      <th></th>\n",
       "      <th>quintile</th>\n",
       "      <th>weighted_monthly_return</th>\n",
       "    </tr>\n",
       "  </thead>\n",
       "  <tbody>\n",
       "    <tr>\n",
       "      <th>0</th>\n",
       "      <td>0</td>\n",
       "      <td>0.247862</td>\n",
       "    </tr>\n",
       "    <tr>\n",
       "      <th>1</th>\n",
       "      <td>1</td>\n",
       "      <td>0.116252</td>\n",
       "    </tr>\n",
       "    <tr>\n",
       "      <th>2</th>\n",
       "      <td>2</td>\n",
       "      <td>0.073097</td>\n",
       "    </tr>\n",
       "    <tr>\n",
       "      <th>3</th>\n",
       "      <td>3</td>\n",
       "      <td>0.121039</td>\n",
       "    </tr>\n",
       "    <tr>\n",
       "      <th>4</th>\n",
       "      <td>4</td>\n",
       "      <td>0.636626</td>\n",
       "    </tr>\n",
       "    <tr>\n",
       "      <th>5</th>\n",
       "      <td>5</td>\n",
       "      <td>0.721614</td>\n",
       "    </tr>\n",
       "  </tbody>\n",
       "</table>\n",
       "</div>"
      ],
      "text/plain": [
       "   quintile  weighted_monthly_return\n",
       "0         0                 0.247862\n",
       "1         1                 0.116252\n",
       "2         2                 0.073097\n",
       "3         3                 0.121039\n",
       "4         4                 0.636626\n",
       "5         5                 0.721614"
      ]
     },
     "execution_count": 24,
     "metadata": {},
     "output_type": "execute_result"
    }
   ],
   "source": [
    "value_return_2000_2012, value_monthly_returns_2000_2012 = get_value_weighted(all_quant, '2000-01-01', '2012-12-31')\n",
    "value_return_2000_2012"
   ]
  },
  {
   "cell_type": "markdown",
   "metadata": {},
   "source": [
    "### Value Weighted Results (1981-2012) per Month "
   ]
  },
  {
   "cell_type": "markdown",
   "metadata": {},
   "source": [
    "This allows me to create the High - Low column for the regressions by subtracting the low quintile from the high quintile for each month."
   ]
  },
  {
   "cell_type": "code",
   "execution_count": 25,
   "metadata": {},
   "outputs": [
    {
     "data": {
      "text/html": [
       "<div>\n",
       "<style scoped>\n",
       "    .dataframe tbody tr th:only-of-type {\n",
       "        vertical-align: middle;\n",
       "    }\n",
       "\n",
       "    .dataframe tbody tr th {\n",
       "        vertical-align: top;\n",
       "    }\n",
       "\n",
       "    .dataframe thead th {\n",
       "        text-align: right;\n",
       "    }\n",
       "</style>\n",
       "<table border=\"1\" class=\"dataframe\">\n",
       "  <thead>\n",
       "    <tr style=\"text-align: right;\">\n",
       "      <th>quintile</th>\n",
       "      <th>monthly_date</th>\n",
       "      <th>0</th>\n",
       "      <th>1</th>\n",
       "      <th>2</th>\n",
       "      <th>3</th>\n",
       "      <th>4</th>\n",
       "      <th>5</th>\n",
       "      <th>High - Low</th>\n",
       "    </tr>\n",
       "  </thead>\n",
       "  <tbody>\n",
       "    <tr>\n",
       "      <th>0</th>\n",
       "      <td>1981-07-31</td>\n",
       "      <td>-0.008123</td>\n",
       "      <td>0.055956</td>\n",
       "      <td>0.005565</td>\n",
       "      <td>-0.032474</td>\n",
       "      <td>-0.040559</td>\n",
       "      <td>-0.056509</td>\n",
       "      <td>-0.112465</td>\n",
       "    </tr>\n",
       "    <tr>\n",
       "      <th>1</th>\n",
       "      <td>1981-08-31</td>\n",
       "      <td>-0.070968</td>\n",
       "      <td>-0.080284</td>\n",
       "      <td>-0.050008</td>\n",
       "      <td>-0.083597</td>\n",
       "      <td>-0.070485</td>\n",
       "      <td>-0.105695</td>\n",
       "      <td>-0.025411</td>\n",
       "    </tr>\n",
       "    <tr>\n",
       "      <th>2</th>\n",
       "      <td>1981-09-30</td>\n",
       "      <td>-0.081258</td>\n",
       "      <td>-0.128556</td>\n",
       "      <td>-0.061268</td>\n",
       "      <td>-0.061388</td>\n",
       "      <td>-0.048509</td>\n",
       "      <td>-0.098185</td>\n",
       "      <td>0.030372</td>\n",
       "    </tr>\n",
       "    <tr>\n",
       "      <th>3</th>\n",
       "      <td>1981-10-30</td>\n",
       "      <td>0.065795</td>\n",
       "      <td>0.090411</td>\n",
       "      <td>0.037909</td>\n",
       "      <td>0.048415</td>\n",
       "      <td>0.008460</td>\n",
       "      <td>-0.026369</td>\n",
       "      <td>-0.116780</td>\n",
       "    </tr>\n",
       "    <tr>\n",
       "      <th>4</th>\n",
       "      <td>1981-11-30</td>\n",
       "      <td>0.028501</td>\n",
       "      <td>0.050888</td>\n",
       "      <td>0.033051</td>\n",
       "      <td>0.018046</td>\n",
       "      <td>0.037902</td>\n",
       "      <td>0.015492</td>\n",
       "      <td>-0.035396</td>\n",
       "    </tr>\n",
       "    <tr>\n",
       "      <th>...</th>\n",
       "      <td>...</td>\n",
       "      <td>...</td>\n",
       "      <td>...</td>\n",
       "      <td>...</td>\n",
       "      <td>...</td>\n",
       "      <td>...</td>\n",
       "      <td>...</td>\n",
       "      <td>...</td>\n",
       "    </tr>\n",
       "    <tr>\n",
       "      <th>373</th>\n",
       "      <td>2012-08-31</td>\n",
       "      <td>0.017398</td>\n",
       "      <td>0.031005</td>\n",
       "      <td>0.034971</td>\n",
       "      <td>0.022328</td>\n",
       "      <td>0.010996</td>\n",
       "      <td>0.045340</td>\n",
       "      <td>0.014335</td>\n",
       "    </tr>\n",
       "    <tr>\n",
       "      <th>374</th>\n",
       "      <td>2012-09-28</td>\n",
       "      <td>0.029683</td>\n",
       "      <td>0.020950</td>\n",
       "      <td>0.038247</td>\n",
       "      <td>0.021840</td>\n",
       "      <td>0.008594</td>\n",
       "      <td>0.031814</td>\n",
       "      <td>0.010864</td>\n",
       "    </tr>\n",
       "    <tr>\n",
       "      <th>375</th>\n",
       "      <td>2012-10-31</td>\n",
       "      <td>-0.007529</td>\n",
       "      <td>-0.036594</td>\n",
       "      <td>-0.032710</td>\n",
       "      <td>-0.028263</td>\n",
       "      <td>-0.029340</td>\n",
       "      <td>0.009392</td>\n",
       "      <td>0.045986</td>\n",
       "    </tr>\n",
       "    <tr>\n",
       "      <th>376</th>\n",
       "      <td>2012-11-30</td>\n",
       "      <td>-0.003732</td>\n",
       "      <td>0.003307</td>\n",
       "      <td>0.024531</td>\n",
       "      <td>0.017026</td>\n",
       "      <td>0.016352</td>\n",
       "      <td>0.034663</td>\n",
       "      <td>0.031356</td>\n",
       "    </tr>\n",
       "    <tr>\n",
       "      <th>377</th>\n",
       "      <td>2012-12-31</td>\n",
       "      <td>0.006858</td>\n",
       "      <td>-0.012575</td>\n",
       "      <td>0.013592</td>\n",
       "      <td>0.015546</td>\n",
       "      <td>0.020540</td>\n",
       "      <td>0.062664</td>\n",
       "      <td>0.075239</td>\n",
       "    </tr>\n",
       "  </tbody>\n",
       "</table>\n",
       "<p>378 rows × 8 columns</p>\n",
       "</div>"
      ],
      "text/plain": [
       "quintile monthly_date         0         1         2         3         4  \\\n",
       "0          1981-07-31 -0.008123  0.055956  0.005565 -0.032474 -0.040559   \n",
       "1          1981-08-31 -0.070968 -0.080284 -0.050008 -0.083597 -0.070485   \n",
       "2          1981-09-30 -0.081258 -0.128556 -0.061268 -0.061388 -0.048509   \n",
       "3          1981-10-30  0.065795  0.090411  0.037909  0.048415  0.008460   \n",
       "4          1981-11-30  0.028501  0.050888  0.033051  0.018046  0.037902   \n",
       "..                ...       ...       ...       ...       ...       ...   \n",
       "373        2012-08-31  0.017398  0.031005  0.034971  0.022328  0.010996   \n",
       "374        2012-09-28  0.029683  0.020950  0.038247  0.021840  0.008594   \n",
       "375        2012-10-31 -0.007529 -0.036594 -0.032710 -0.028263 -0.029340   \n",
       "376        2012-11-30 -0.003732  0.003307  0.024531  0.017026  0.016352   \n",
       "377        2012-12-31  0.006858 -0.012575  0.013592  0.015546  0.020540   \n",
       "\n",
       "quintile         5  High - Low  \n",
       "0        -0.056509   -0.112465  \n",
       "1        -0.105695   -0.025411  \n",
       "2        -0.098185    0.030372  \n",
       "3        -0.026369   -0.116780  \n",
       "4         0.015492   -0.035396  \n",
       "..             ...         ...  \n",
       "373       0.045340    0.014335  \n",
       "374       0.031814    0.010864  \n",
       "375       0.009392    0.045986  \n",
       "376       0.034663    0.031356  \n",
       "377       0.062664    0.075239  \n",
       "\n",
       "[378 rows x 8 columns]"
      ]
     },
     "execution_count": 25,
     "metadata": {},
     "output_type": "execute_result"
    }
   ],
   "source": [
    "# pivot makes each quintile a column and the monthly returns the values\n",
    "total_value_1981_2012 = value_monthly_returns_1981_2012.pivot(index='monthly_date', columns='quintile', values='weighted_monthly_return')\n",
    "# resets the index so that the monthly_date is a column again\n",
    "total_value_1981_2012 = total_value_1981_2012.reset_index()\n",
    "# create the high - low column by subtracting the low quintile (1) from the high quintile (5)\n",
    "total_value_1981_2012['High - Low'] = total_value_1981_2012[5] - total_value_1981_2012[1]\n",
    "total_value_1981_2012"
   ]
  },
  {
   "cell_type": "markdown",
   "metadata": {},
   "source": [
    "### Fama French Data: 1981 - 2012 (Value Weighted)"
   ]
  },
  {
   "cell_type": "code",
   "execution_count": 26,
   "metadata": {},
   "outputs": [
    {
     "data": {
      "text/html": [
       "<div>\n",
       "<style scoped>\n",
       "    .dataframe tbody tr th:only-of-type {\n",
       "        vertical-align: middle;\n",
       "    }\n",
       "\n",
       "    .dataframe tbody tr th {\n",
       "        vertical-align: top;\n",
       "    }\n",
       "\n",
       "    .dataframe thead th {\n",
       "        text-align: right;\n",
       "    }\n",
       "</style>\n",
       "<table border=\"1\" class=\"dataframe\">\n",
       "  <thead>\n",
       "    <tr style=\"text-align: right;\">\n",
       "      <th></th>\n",
       "      <th>year_month</th>\n",
       "      <th>Mkt-RF</th>\n",
       "      <th>SMB</th>\n",
       "      <th>HML</th>\n",
       "      <th>RF</th>\n",
       "      <th>year</th>\n",
       "      <th>month</th>\n",
       "      <th>High - Low</th>\n",
       "    </tr>\n",
       "  </thead>\n",
       "  <tbody>\n",
       "    <tr>\n",
       "      <th>0</th>\n",
       "      <td>1981-07</td>\n",
       "      <td>-1.54</td>\n",
       "      <td>-2.19</td>\n",
       "      <td>-0.50</td>\n",
       "      <td>0.0124</td>\n",
       "      <td>1981</td>\n",
       "      <td>7</td>\n",
       "      <td>-0.112465</td>\n",
       "    </tr>\n",
       "    <tr>\n",
       "      <th>1</th>\n",
       "      <td>1981-08</td>\n",
       "      <td>-7.04</td>\n",
       "      <td>-1.95</td>\n",
       "      <td>4.76</td>\n",
       "      <td>0.0128</td>\n",
       "      <td>1981</td>\n",
       "      <td>8</td>\n",
       "      <td>-0.025411</td>\n",
       "    </tr>\n",
       "  </tbody>\n",
       "</table>\n",
       "</div>"
      ],
      "text/plain": [
       "  year_month  Mkt-RF   SMB   HML      RF  year  month  High - Low\n",
       "0    1981-07   -1.54 -2.19 -0.50  0.0124  1981      7   -0.112465\n",
       "1    1981-08   -7.04 -1.95  4.76  0.0128  1981      8   -0.025411"
      ]
     },
     "execution_count": 26,
     "metadata": {},
     "output_type": "execute_result"
    }
   ],
   "source": [
    "# filter fama french data for the time period\n",
    "fama_french_1981_2012 = fama_french[(fama_french['year_month'] >= '1981-07') & (fama_french['year_month'] <= '2012-12')].reset_index(drop=True)\n",
    "# add the high - low column to the fama french data to make it easier to run the regressions\n",
    "fama_french_1981_2012['High - Low'] = total_value_1981_2012['High - Low']\n",
    "fama_french_1981_2012.head(2)"
   ]
  },
  {
   "cell_type": "markdown",
   "metadata": {},
   "source": [
    "### CAPM Alpha: 1981 - 2012 (Value Weighted)"
   ]
  },
  {
   "cell_type": "code",
   "execution_count": 27,
   "metadata": {},
   "outputs": [
    {
     "name": "stdout",
     "output_type": "stream",
     "text": [
      "CAPM Alpha for 1981-2012 (Monthly): 0.333%\n",
      "T-statistic for CAPM Alpha for 1981-2012 (Monthly): 1.3365\n"
     ]
    }
   ],
   "source": [
    "# Regress the high - low column on the market risk premium to find the CAPM alpha\n",
    "X = fama_french_1981_2012['Mkt-RF']\n",
    "y = fama_french_1981_2012['High - Low']\n",
    "\n",
    "X = sm.add_constant(X)\n",
    "model = sm.OLS(y, X)\n",
    "results = model.fit()\n",
    "\n",
    "print('CAPM Alpha for 1981-2012 (Monthly):', str(round(results.params[0] * 100, 4)) + '%')\n",
    "print('T-statistic for CAPM Alpha for 1981-2012 (Monthly):', round(results.tvalues[0], 4))"
   ]
  },
  {
   "cell_type": "markdown",
   "metadata": {},
   "source": [
    "### Fama French 3 Factors Alpha: 1981 - 2012 (Value Weighted)"
   ]
  },
  {
   "cell_type": "code",
   "execution_count": 28,
   "metadata": {},
   "outputs": [
    {
     "name": "stdout",
     "output_type": "stream",
     "text": [
      "Fama French 3 Factor Alpha for 1981-2012 (Monthly): 0.1094%\n",
      "T-statistic for Fama French 3 Factor Alpha for 1981-2012 (Monthly): 0.4943\n"
     ]
    }
   ],
   "source": [
    "# Regress the high - low column on the market risk premium, SMB and HML to find the FF3 Factor alpha\n",
    "X = fama_french_1981_2012[['Mkt-RF', 'SMB', 'HML']]\n",
    "y = fama_french_1981_2012['High - Low']\n",
    "\n",
    "X = sm.add_constant(X)\n",
    "model = sm.OLS(y, X)\n",
    "results = model.fit()\n",
    "\n",
    "print('Fama French 3 Factor Alpha for 1981-2012 (Monthly):', str(round(results.params[0] * 100, 4)) + '%')\n",
    "print('T-statistic for Fama French 3 Factor Alpha for 1981-2012 (Monthly):', round(results.tvalues[0], 4))"
   ]
  },
  {
   "cell_type": "markdown",
   "metadata": {},
   "source": [
    "### Sharpe Ratio: 1981 - 2012 (Value Weighted)"
   ]
  },
  {
   "cell_type": "code",
   "execution_count": 29,
   "metadata": {},
   "outputs": [
    {
     "name": "stdout",
     "output_type": "stream",
     "text": [
      "Annualized Sharpe Ratio for 1981-2012 (Annual): 0.365\n"
     ]
    }
   ],
   "source": [
    "# compute the sharpe ratio for the high - low column (mean / standard deviation)\n",
    "mean_high_low = fama_french_1981_2012['High - Low'].mean()\n",
    "std_high_low = fama_french_1981_2012['High - Low'].std()\n",
    "\n",
    "# multiply by sqrt(12) to get the annualized sharpe ratio\n",
    "annualized_sharpe_ratio = (mean_high_low / std_high_low) * np.sqrt(12)\n",
    "\n",
    "print('Annualized Sharpe Ratio for 1981-2012 (Annual):', round(annualized_sharpe_ratio, 4))"
   ]
  },
  {
   "cell_type": "markdown",
   "metadata": {},
   "source": [
    "# Drop Top 1000 Largest Firms Each Year (1981-2012, 1981-1999, 2000-2012)"
   ]
  },
  {
   "cell_type": "code",
   "execution_count": 30,
   "metadata": {},
   "outputs": [],
   "source": [
    "# new dataframe that will include quintiles, returns for equally and value weighted portfolios\n",
    "all_quant_1000 = all_quant.copy()\n",
    "\n",
    "# group by fyear and permnno to get each firms yearly market value of equity\n",
    "# mean because the market value of equity is the same for the whole fyear\n",
    "top_1000 = all_quant.groupby(['fyear', 'PERMNO'])['mktvaleq'].mean().reset_index()\n",
    "# sort values for easier viewing\n",
    "top_1000.sort_values('mktvaleq', ascending=False)\n",
    "# get the top 1000 permnos for each year by market value of equity\n",
    "top_1000 = top_1000.sort_values(['fyear', 'mktvaleq'], ascending=False).groupby('fyear').head(1000)\n",
    "\n",
    "# drop the top 1000 larget firms each year\n",
    "for year in top_1000['fyear'].unique():\n",
    "    # get the df with only the firms for that year\n",
    "    df = top_1000[top_1000['fyear'] == year]\n",
    "    # create a filter (mask) where the PERMNO is in the top 1000 firms for the year\n",
    "    mask = all_quant['PERMNO'].isin(df['PERMNO']) & (all_quant['fyear'] == year)\n",
    "    # remove the top 1000 largest firms for the year\n",
    "    all_quant_1000 = all_quant_1000[~mask]\n",
    "\n",
    "# new dataframe that will include quintiles, returns for equally and value weighted portfolios\n",
    "new_all_quant = pd.DataFrame()\n",
    "\n",
    "# loop through each year and create quintiles for each year\n",
    "for year in all_quant_1000['fyear'].unique():\n",
    "    # get the df for the year\n",
    "    df = all_quant_1000[all_quant_1000['fyear'] == year]\n",
    "    # create quintiles for the year using the function\n",
    "    df = get_quintiles(df)\n",
    "    # append the df for the year with quintiles to the new_all_quant df\n",
    "    new_all_quant = pd.concat([new_all_quant, df])"
   ]
  },
  {
   "cell_type": "markdown",
   "metadata": {},
   "source": [
    "### Add columns for computing value weighted returns"
   ]
  },
  {
   "cell_type": "code",
   "execution_count": 31,
   "metadata": {},
   "outputs": [
    {
     "data": {
      "text/html": [
       "<div>\n",
       "<style scoped>\n",
       "    .dataframe tbody tr th:only-of-type {\n",
       "        vertical-align: middle;\n",
       "    }\n",
       "\n",
       "    .dataframe tbody tr th {\n",
       "        vertical-align: top;\n",
       "    }\n",
       "\n",
       "    .dataframe thead th {\n",
       "        text-align: right;\n",
       "    }\n",
       "</style>\n",
       "<table border=\"1\" class=\"dataframe\">\n",
       "  <thead>\n",
       "    <tr style=\"text-align: right;\">\n",
       "      <th></th>\n",
       "      <th>GVKEY</th>\n",
       "      <th>PERMNO</th>\n",
       "      <th>company_name</th>\n",
       "      <th>yearly_date</th>\n",
       "      <th>fyear</th>\n",
       "      <th>monthly_date</th>\n",
       "      <th>mktvaleq</th>\n",
       "      <th>xrd</th>\n",
       "      <th>rdc</th>\n",
       "      <th>rdc_mktvaleq</th>\n",
       "      <th>monthly_price</th>\n",
       "      <th>monthly_return</th>\n",
       "      <th>shares_outstanding</th>\n",
       "      <th>quintile</th>\n",
       "      <th>monthly_mktvaleq</th>\n",
       "      <th>lagged_monthly_mktvaleq</th>\n",
       "      <th>sum_lagged_monthly_mktvaleq</th>\n",
       "      <th>weight</th>\n",
       "      <th>weighted_monthly_return</th>\n",
       "    </tr>\n",
       "  </thead>\n",
       "  <tbody>\n",
       "    <tr>\n",
       "      <th>458845</th>\n",
       "      <td>12994</td>\n",
       "      <td>10001</td>\n",
       "      <td>GREAT FALLS GAS CO</td>\n",
       "      <td>1986-09-28</td>\n",
       "      <td>1987</td>\n",
       "      <td>1987-06-30</td>\n",
       "      <td>5.91</td>\n",
       "      <td>0.0</td>\n",
       "      <td>0.0</td>\n",
       "      <td>0.0</td>\n",
       "      <td>5.875</td>\n",
       "      <td>0.046629</td>\n",
       "      <td>991.0</td>\n",
       "      <td>0</td>\n",
       "      <td>5822.125</td>\n",
       "      <td>5636.3125</td>\n",
       "      <td>7.977917e+07</td>\n",
       "      <td>0.000071</td>\n",
       "      <td>0.000003</td>\n",
       "    </tr>\n",
       "    <tr>\n",
       "      <th>458846</th>\n",
       "      <td>12994</td>\n",
       "      <td>10001</td>\n",
       "      <td>GREAT FALLS GAS CO</td>\n",
       "      <td>1986-09-28</td>\n",
       "      <td>1987</td>\n",
       "      <td>1987-07-31</td>\n",
       "      <td>5.91</td>\n",
       "      <td>0.0</td>\n",
       "      <td>0.0</td>\n",
       "      <td>0.0</td>\n",
       "      <td>6.000</td>\n",
       "      <td>0.016677</td>\n",
       "      <td>991.0</td>\n",
       "      <td>0</td>\n",
       "      <td>5946.000</td>\n",
       "      <td>5822.1250</td>\n",
       "      <td>8.392279e+07</td>\n",
       "      <td>0.000069</td>\n",
       "      <td>0.000001</td>\n",
       "    </tr>\n",
       "  </tbody>\n",
       "</table>\n",
       "</div>"
      ],
      "text/plain": [
       "        GVKEY  PERMNO        company_name yearly_date  fyear monthly_date  \\\n",
       "458845  12994   10001  GREAT FALLS GAS CO  1986-09-28   1987   1987-06-30   \n",
       "458846  12994   10001  GREAT FALLS GAS CO  1986-09-28   1987   1987-07-31   \n",
       "\n",
       "        mktvaleq  xrd  rdc  rdc_mktvaleq  monthly_price  monthly_return  \\\n",
       "458845      5.91  0.0  0.0           0.0          5.875        0.046629   \n",
       "458846      5.91  0.0  0.0           0.0          6.000        0.016677   \n",
       "\n",
       "        shares_outstanding  quintile  monthly_mktvaleq  \\\n",
       "458845               991.0         0          5822.125   \n",
       "458846               991.0         0          5946.000   \n",
       "\n",
       "        lagged_monthly_mktvaleq  sum_lagged_monthly_mktvaleq    weight  \\\n",
       "458845                5636.3125                 7.977917e+07  0.000071   \n",
       "458846                5822.1250                 8.392279e+07  0.000069   \n",
       "\n",
       "        weighted_monthly_return  \n",
       "458845                 0.000003  \n",
       "458846                 0.000001  "
      ]
     },
     "execution_count": 31,
     "metadata": {},
     "output_type": "execute_result"
    }
   ],
   "source": [
    "# add column for monthly market value of equity (Monthly Price * Shares Outstanding)\n",
    "new_all_quant['monthly_mktvaleq'] = new_all_quant['monthly_price'] * new_all_quant['shares_outstanding']\n",
    "# sort the values by date and permno for easier viewing\n",
    "new_all_quant = new_all_quant.sort_values(['PERMNO', 'monthly_date'])\n",
    "# add a column for lagged monthly market value of equity (group by firm and quintile and shift by 1 month)\n",
    "new_all_quant['lagged_monthly_mktvaleq'] = new_all_quant.groupby(['PERMNO', 'quintile'])['monthly_mktvaleq'].shift(1)\n",
    "# drop the nan values from shifting (first month of each firm, most are in 1975 so won't effect results)\n",
    "new_all_quant.dropna(subset=['lagged_monthly_mktvaleq'], inplace=True)\n",
    "\n",
    "# Add a column for the sum of lagged monthly market value of equity (group by month and quintile)\n",
    "# Transform method is used to give each row it's corrrect sum of lagged monthly market value of equity (by month and quintile)\n",
    "new_all_quant['sum_lagged_monthly_mktvaleq'] = new_all_quant.groupby(['monthly_date', 'quintile'])['lagged_monthly_mktvaleq'].transform('sum')\n",
    "\n",
    "# add a column with the weight of each firm in the value weighted portfolio\n",
    "# This will allows us to calculate the value weighted returns which is:\n",
    "#    (lagged monthly market value of equity / total of lagged monthly market value of equity (by month and quintile)) * monthly return\n",
    "new_all_quant['weight'] = new_all_quant['lagged_monthly_mktvaleq'] / new_all_quant['sum_lagged_monthly_mktvaleq']\n",
    "\n",
    "# weighted returns are the monthly returns * the weight for the firm for the month\n",
    "new_all_quant['weighted_monthly_return'] = new_all_quant['monthly_return'] * new_all_quant['weight']\n",
    "\n",
    "new_all_quant.head(2)"
   ]
  },
  {
   "cell_type": "markdown",
   "metadata": {},
   "source": [
    "### Value Weighted Drop 1000 Largest Results (1981-2012)"
   ]
  },
  {
   "cell_type": "code",
   "execution_count": 32,
   "metadata": {},
   "outputs": [
    {
     "name": "stdout",
     "output_type": "stream",
     "text": [
      "1981-07-01 2012-12-31\n"
     ]
    },
    {
     "data": {
      "text/html": [
       "<div>\n",
       "<style scoped>\n",
       "    .dataframe tbody tr th:only-of-type {\n",
       "        vertical-align: middle;\n",
       "    }\n",
       "\n",
       "    .dataframe tbody tr th {\n",
       "        vertical-align: top;\n",
       "    }\n",
       "\n",
       "    .dataframe thead th {\n",
       "        text-align: right;\n",
       "    }\n",
       "</style>\n",
       "<table border=\"1\" class=\"dataframe\">\n",
       "  <thead>\n",
       "    <tr style=\"text-align: right;\">\n",
       "      <th></th>\n",
       "      <th>quintile</th>\n",
       "      <th>weighted_monthly_return</th>\n",
       "    </tr>\n",
       "  </thead>\n",
       "  <tbody>\n",
       "    <tr>\n",
       "      <th>0</th>\n",
       "      <td>0</td>\n",
       "      <td>0.595850</td>\n",
       "    </tr>\n",
       "    <tr>\n",
       "      <th>1</th>\n",
       "      <td>1</td>\n",
       "      <td>0.399206</td>\n",
       "    </tr>\n",
       "    <tr>\n",
       "      <th>2</th>\n",
       "      <td>2</td>\n",
       "      <td>0.584992</td>\n",
       "    </tr>\n",
       "    <tr>\n",
       "      <th>3</th>\n",
       "      <td>3</td>\n",
       "      <td>0.743091</td>\n",
       "    </tr>\n",
       "    <tr>\n",
       "      <th>4</th>\n",
       "      <td>4</td>\n",
       "      <td>0.923087</td>\n",
       "    </tr>\n",
       "    <tr>\n",
       "      <th>5</th>\n",
       "      <td>5</td>\n",
       "      <td>1.305694</td>\n",
       "    </tr>\n",
       "  </tbody>\n",
       "</table>\n",
       "</div>"
      ],
      "text/plain": [
       "   quintile  weighted_monthly_return\n",
       "0         0                 0.595850\n",
       "1         1                 0.399206\n",
       "2         2                 0.584992\n",
       "3         3                 0.743091\n",
       "4         4                 0.923087\n",
       "5         5                 1.305694"
      ]
     },
     "execution_count": 32,
     "metadata": {},
     "output_type": "execute_result"
    }
   ],
   "source": [
    "value_return_1000_1981_2012, value_monthly_returns_1000_1981_2012 = get_value_weighted(new_all_quant, '1981-07-01', '2012-12-31')\n",
    "value_return_1000_1981_2012"
   ]
  },
  {
   "cell_type": "markdown",
   "metadata": {},
   "source": [
    "### Value Weighted Drop 1000 Largest Results (1981-1999)"
   ]
  },
  {
   "cell_type": "code",
   "execution_count": 33,
   "metadata": {},
   "outputs": [
    {
     "name": "stdout",
     "output_type": "stream",
     "text": [
      "1981-07-01 1999-12-31\n"
     ]
    },
    {
     "data": {
      "text/html": [
       "<div>\n",
       "<style scoped>\n",
       "    .dataframe tbody tr th:only-of-type {\n",
       "        vertical-align: middle;\n",
       "    }\n",
       "\n",
       "    .dataframe tbody tr th {\n",
       "        vertical-align: top;\n",
       "    }\n",
       "\n",
       "    .dataframe thead th {\n",
       "        text-align: right;\n",
       "    }\n",
       "</style>\n",
       "<table border=\"1\" class=\"dataframe\">\n",
       "  <thead>\n",
       "    <tr style=\"text-align: right;\">\n",
       "      <th></th>\n",
       "      <th>quintile</th>\n",
       "      <th>weighted_monthly_return</th>\n",
       "    </tr>\n",
       "  </thead>\n",
       "  <tbody>\n",
       "    <tr>\n",
       "      <th>0</th>\n",
       "      <td>0</td>\n",
       "      <td>0.498790</td>\n",
       "    </tr>\n",
       "    <tr>\n",
       "      <th>1</th>\n",
       "      <td>1</td>\n",
       "      <td>0.442720</td>\n",
       "    </tr>\n",
       "    <tr>\n",
       "      <th>2</th>\n",
       "      <td>2</td>\n",
       "      <td>0.661416</td>\n",
       "    </tr>\n",
       "    <tr>\n",
       "      <th>3</th>\n",
       "      <td>3</td>\n",
       "      <td>0.848870</td>\n",
       "    </tr>\n",
       "    <tr>\n",
       "      <th>4</th>\n",
       "      <td>4</td>\n",
       "      <td>1.032622</td>\n",
       "    </tr>\n",
       "    <tr>\n",
       "      <th>5</th>\n",
       "      <td>5</td>\n",
       "      <td>1.288191</td>\n",
       "    </tr>\n",
       "  </tbody>\n",
       "</table>\n",
       "</div>"
      ],
      "text/plain": [
       "   quintile  weighted_monthly_return\n",
       "0         0                 0.498790\n",
       "1         1                 0.442720\n",
       "2         2                 0.661416\n",
       "3         3                 0.848870\n",
       "4         4                 1.032622\n",
       "5         5                 1.288191"
      ]
     },
     "execution_count": 33,
     "metadata": {},
     "output_type": "execute_result"
    }
   ],
   "source": [
    "value_return_1000_1981_1999, value_monthly_returns_1000_1981_1999 = get_value_weighted(new_all_quant, '1981-07-01', '1999-12-31')\n",
    "value_return_1000_1981_1999"
   ]
  },
  {
   "cell_type": "markdown",
   "metadata": {},
   "source": [
    "### Value Weighted Drop 1000 Largest Results (2000-2012)"
   ]
  },
  {
   "cell_type": "code",
   "execution_count": 34,
   "metadata": {},
   "outputs": [
    {
     "name": "stdout",
     "output_type": "stream",
     "text": [
      "2000-01-01 2012-12-31\n"
     ]
    },
    {
     "data": {
      "text/html": [
       "<div>\n",
       "<style scoped>\n",
       "    .dataframe tbody tr th:only-of-type {\n",
       "        vertical-align: middle;\n",
       "    }\n",
       "\n",
       "    .dataframe tbody tr th {\n",
       "        vertical-align: top;\n",
       "    }\n",
       "\n",
       "    .dataframe thead th {\n",
       "        text-align: right;\n",
       "    }\n",
       "</style>\n",
       "<table border=\"1\" class=\"dataframe\">\n",
       "  <thead>\n",
       "    <tr style=\"text-align: right;\">\n",
       "      <th></th>\n",
       "      <th>quintile</th>\n",
       "      <th>weighted_monthly_return</th>\n",
       "    </tr>\n",
       "  </thead>\n",
       "  <tbody>\n",
       "    <tr>\n",
       "      <th>0</th>\n",
       "      <td>0</td>\n",
       "      <td>0.733974</td>\n",
       "    </tr>\n",
       "    <tr>\n",
       "      <th>1</th>\n",
       "      <td>1</td>\n",
       "      <td>0.337282</td>\n",
       "    </tr>\n",
       "    <tr>\n",
       "      <th>2</th>\n",
       "      <td>2</td>\n",
       "      <td>0.476237</td>\n",
       "    </tr>\n",
       "    <tr>\n",
       "      <th>3</th>\n",
       "      <td>3</td>\n",
       "      <td>0.592558</td>\n",
       "    </tr>\n",
       "    <tr>\n",
       "      <th>4</th>\n",
       "      <td>4</td>\n",
       "      <td>0.767209</td>\n",
       "    </tr>\n",
       "    <tr>\n",
       "      <th>5</th>\n",
       "      <td>5</td>\n",
       "      <td>1.330601</td>\n",
       "    </tr>\n",
       "  </tbody>\n",
       "</table>\n",
       "</div>"
      ],
      "text/plain": [
       "   quintile  weighted_monthly_return\n",
       "0         0                 0.733974\n",
       "1         1                 0.337282\n",
       "2         2                 0.476237\n",
       "3         3                 0.592558\n",
       "4         4                 0.767209\n",
       "5         5                 1.330601"
      ]
     },
     "execution_count": 34,
     "metadata": {},
     "output_type": "execute_result"
    }
   ],
   "source": [
    "value_return_1000_2000_2012, value_monthly_returns_1000_2000_2012 = get_value_weighted(new_all_quant, '2000-01-01', '2012-12-31')\n",
    "value_return_1000_2000_2012"
   ]
  },
  {
   "cell_type": "markdown",
   "metadata": {},
   "source": [
    "### Value Weighted Drop 1000 Largest Results (1981-2012) per Month"
   ]
  },
  {
   "cell_type": "markdown",
   "metadata": {},
   "source": [
    "This allows me to create the High - Low column for the regressions by subtracting the low quintile from the high quintile for each month."
   ]
  },
  {
   "cell_type": "code",
   "execution_count": 35,
   "metadata": {},
   "outputs": [
    {
     "data": {
      "text/html": [
       "<div>\n",
       "<style scoped>\n",
       "    .dataframe tbody tr th:only-of-type {\n",
       "        vertical-align: middle;\n",
       "    }\n",
       "\n",
       "    .dataframe tbody tr th {\n",
       "        vertical-align: top;\n",
       "    }\n",
       "\n",
       "    .dataframe thead th {\n",
       "        text-align: right;\n",
       "    }\n",
       "</style>\n",
       "<table border=\"1\" class=\"dataframe\">\n",
       "  <thead>\n",
       "    <tr style=\"text-align: right;\">\n",
       "      <th>quintile</th>\n",
       "      <th>monthly_date</th>\n",
       "      <th>0</th>\n",
       "      <th>1</th>\n",
       "      <th>2</th>\n",
       "      <th>3</th>\n",
       "      <th>4</th>\n",
       "      <th>5</th>\n",
       "      <th>High - Low</th>\n",
       "    </tr>\n",
       "  </thead>\n",
       "  <tbody>\n",
       "    <tr>\n",
       "      <th>0</th>\n",
       "      <td>1981-07-31</td>\n",
       "      <td>-0.033569</td>\n",
       "      <td>-0.047503</td>\n",
       "      <td>-0.068878</td>\n",
       "      <td>-0.037728</td>\n",
       "      <td>-0.051461</td>\n",
       "      <td>-0.036836</td>\n",
       "      <td>0.010667</td>\n",
       "    </tr>\n",
       "    <tr>\n",
       "      <th>1</th>\n",
       "      <td>1981-08-31</td>\n",
       "      <td>-0.086396</td>\n",
       "      <td>-0.116843</td>\n",
       "      <td>-0.130441</td>\n",
       "      <td>-0.121269</td>\n",
       "      <td>-0.132399</td>\n",
       "      <td>-0.109261</td>\n",
       "      <td>0.007582</td>\n",
       "    </tr>\n",
       "    <tr>\n",
       "      <th>2</th>\n",
       "      <td>1981-09-30</td>\n",
       "      <td>-0.096905</td>\n",
       "      <td>-0.124186</td>\n",
       "      <td>-0.104069</td>\n",
       "      <td>-0.072961</td>\n",
       "      <td>-0.106890</td>\n",
       "      <td>-0.100469</td>\n",
       "      <td>0.023717</td>\n",
       "    </tr>\n",
       "    <tr>\n",
       "      <th>3</th>\n",
       "      <td>1981-10-30</td>\n",
       "      <td>0.067668</td>\n",
       "      <td>0.109050</td>\n",
       "      <td>0.093944</td>\n",
       "      <td>0.116231</td>\n",
       "      <td>0.078220</td>\n",
       "      <td>0.087660</td>\n",
       "      <td>-0.021390</td>\n",
       "    </tr>\n",
       "    <tr>\n",
       "      <th>4</th>\n",
       "      <td>1981-11-30</td>\n",
       "      <td>0.010812</td>\n",
       "      <td>0.004715</td>\n",
       "      <td>-0.001379</td>\n",
       "      <td>0.016452</td>\n",
       "      <td>0.005636</td>\n",
       "      <td>0.006681</td>\n",
       "      <td>0.001965</td>\n",
       "    </tr>\n",
       "    <tr>\n",
       "      <th>...</th>\n",
       "      <td>...</td>\n",
       "      <td>...</td>\n",
       "      <td>...</td>\n",
       "      <td>...</td>\n",
       "      <td>...</td>\n",
       "      <td>...</td>\n",
       "      <td>...</td>\n",
       "      <td>...</td>\n",
       "    </tr>\n",
       "    <tr>\n",
       "      <th>373</th>\n",
       "      <td>2012-08-31</td>\n",
       "      <td>0.040056</td>\n",
       "      <td>0.026005</td>\n",
       "      <td>0.047969</td>\n",
       "      <td>0.029974</td>\n",
       "      <td>0.006234</td>\n",
       "      <td>0.033192</td>\n",
       "      <td>0.007186</td>\n",
       "    </tr>\n",
       "    <tr>\n",
       "      <th>374</th>\n",
       "      <td>2012-09-28</td>\n",
       "      <td>0.041536</td>\n",
       "      <td>0.026259</td>\n",
       "      <td>0.036998</td>\n",
       "      <td>0.020694</td>\n",
       "      <td>0.017750</td>\n",
       "      <td>0.034548</td>\n",
       "      <td>0.008289</td>\n",
       "    </tr>\n",
       "    <tr>\n",
       "      <th>375</th>\n",
       "      <td>2012-10-31</td>\n",
       "      <td>-0.009779</td>\n",
       "      <td>-0.021499</td>\n",
       "      <td>-0.019432</td>\n",
       "      <td>-0.043225</td>\n",
       "      <td>-0.058060</td>\n",
       "      <td>-0.091068</td>\n",
       "      <td>-0.069569</td>\n",
       "    </tr>\n",
       "    <tr>\n",
       "      <th>376</th>\n",
       "      <td>2012-11-30</td>\n",
       "      <td>0.001364</td>\n",
       "      <td>0.010056</td>\n",
       "      <td>0.015576</td>\n",
       "      <td>0.010607</td>\n",
       "      <td>0.029274</td>\n",
       "      <td>0.048198</td>\n",
       "      <td>0.038142</td>\n",
       "    </tr>\n",
       "    <tr>\n",
       "      <th>377</th>\n",
       "      <td>2012-12-31</td>\n",
       "      <td>0.025612</td>\n",
       "      <td>0.034587</td>\n",
       "      <td>0.023925</td>\n",
       "      <td>0.029441</td>\n",
       "      <td>0.038558</td>\n",
       "      <td>0.010189</td>\n",
       "      <td>-0.024398</td>\n",
       "    </tr>\n",
       "  </tbody>\n",
       "</table>\n",
       "<p>378 rows × 8 columns</p>\n",
       "</div>"
      ],
      "text/plain": [
       "quintile monthly_date         0         1         2         3         4  \\\n",
       "0          1981-07-31 -0.033569 -0.047503 -0.068878 -0.037728 -0.051461   \n",
       "1          1981-08-31 -0.086396 -0.116843 -0.130441 -0.121269 -0.132399   \n",
       "2          1981-09-30 -0.096905 -0.124186 -0.104069 -0.072961 -0.106890   \n",
       "3          1981-10-30  0.067668  0.109050  0.093944  0.116231  0.078220   \n",
       "4          1981-11-30  0.010812  0.004715 -0.001379  0.016452  0.005636   \n",
       "..                ...       ...       ...       ...       ...       ...   \n",
       "373        2012-08-31  0.040056  0.026005  0.047969  0.029974  0.006234   \n",
       "374        2012-09-28  0.041536  0.026259  0.036998  0.020694  0.017750   \n",
       "375        2012-10-31 -0.009779 -0.021499 -0.019432 -0.043225 -0.058060   \n",
       "376        2012-11-30  0.001364  0.010056  0.015576  0.010607  0.029274   \n",
       "377        2012-12-31  0.025612  0.034587  0.023925  0.029441  0.038558   \n",
       "\n",
       "quintile         5  High - Low  \n",
       "0        -0.036836    0.010667  \n",
       "1        -0.109261    0.007582  \n",
       "2        -0.100469    0.023717  \n",
       "3         0.087660   -0.021390  \n",
       "4         0.006681    0.001965  \n",
       "..             ...         ...  \n",
       "373       0.033192    0.007186  \n",
       "374       0.034548    0.008289  \n",
       "375      -0.091068   -0.069569  \n",
       "376       0.048198    0.038142  \n",
       "377       0.010189   -0.024398  \n",
       "\n",
       "[378 rows x 8 columns]"
      ]
     },
     "execution_count": 35,
     "metadata": {},
     "output_type": "execute_result"
    }
   ],
   "source": [
    "# pivot the df so that the columns are the quintiles and the values are the monthly returns\n",
    "total_value_1000_1981_2012 = value_monthly_returns_1000_1981_2012.pivot(index='monthly_date', columns='quintile', values='weighted_monthly_return')\n",
    "# reset index so that the monthly_date is a column\n",
    "total_value_1000_1981_2012 = total_value_1000_1981_2012.reset_index()\n",
    "# add a column for high - low, which is the difference between the highest and lowest quintile for R&D\n",
    "total_value_1000_1981_2012['High - Low'] = total_value_1000_1981_2012[5] - total_value_1000_1981_2012[1]\n",
    "total_value_1000_1981_2012"
   ]
  },
  {
   "cell_type": "markdown",
   "metadata": {},
   "source": [
    "### Fama French Data: 1981 - 2012 (Value Weighted Drop 1000 Largest)"
   ]
  },
  {
   "cell_type": "code",
   "execution_count": 36,
   "metadata": {},
   "outputs": [
    {
     "data": {
      "text/html": [
       "<div>\n",
       "<style scoped>\n",
       "    .dataframe tbody tr th:only-of-type {\n",
       "        vertical-align: middle;\n",
       "    }\n",
       "\n",
       "    .dataframe tbody tr th {\n",
       "        vertical-align: top;\n",
       "    }\n",
       "\n",
       "    .dataframe thead th {\n",
       "        text-align: right;\n",
       "    }\n",
       "</style>\n",
       "<table border=\"1\" class=\"dataframe\">\n",
       "  <thead>\n",
       "    <tr style=\"text-align: right;\">\n",
       "      <th></th>\n",
       "      <th>year_month</th>\n",
       "      <th>Mkt-RF</th>\n",
       "      <th>SMB</th>\n",
       "      <th>HML</th>\n",
       "      <th>RF</th>\n",
       "      <th>year</th>\n",
       "      <th>month</th>\n",
       "      <th>High - Low</th>\n",
       "    </tr>\n",
       "  </thead>\n",
       "  <tbody>\n",
       "    <tr>\n",
       "      <th>0</th>\n",
       "      <td>1981-07</td>\n",
       "      <td>-1.54</td>\n",
       "      <td>-2.19</td>\n",
       "      <td>-0.50</td>\n",
       "      <td>0.0124</td>\n",
       "      <td>1981</td>\n",
       "      <td>7</td>\n",
       "      <td>0.010667</td>\n",
       "    </tr>\n",
       "    <tr>\n",
       "      <th>1</th>\n",
       "      <td>1981-08</td>\n",
       "      <td>-7.04</td>\n",
       "      <td>-1.95</td>\n",
       "      <td>4.76</td>\n",
       "      <td>0.0128</td>\n",
       "      <td>1981</td>\n",
       "      <td>8</td>\n",
       "      <td>0.007582</td>\n",
       "    </tr>\n",
       "  </tbody>\n",
       "</table>\n",
       "</div>"
      ],
      "text/plain": [
       "  year_month  Mkt-RF   SMB   HML      RF  year  month  High - Low\n",
       "0    1981-07   -1.54 -2.19 -0.50  0.0124  1981      7    0.010667\n",
       "1    1981-08   -7.04 -1.95  4.76  0.0128  1981      8    0.007582"
      ]
     },
     "execution_count": 36,
     "metadata": {},
     "output_type": "execute_result"
    }
   ],
   "source": [
    "# filter the fama french data to only include the time period\n",
    "fama_french_1981_2012 = fama_french[(fama_french['year_month'] >= '1981-07') & (fama_french['year_month'] <= '2012-12')].reset_index(drop=True)\n",
    "# add a column for the high - low to make running the regression easier\n",
    "fama_french_1981_2012['High - Low'] = total_value_1000_1981_2012['High - Low']\n",
    "fama_french_1981_2012.head(2)"
   ]
  },
  {
   "cell_type": "markdown",
   "metadata": {},
   "source": [
    "### CAPM Alpha: 1981 - 2012 (Value Weighted Drop 1000 Largest)"
   ]
  },
  {
   "cell_type": "code",
   "execution_count": 37,
   "metadata": {},
   "outputs": [
    {
     "name": "stdout",
     "output_type": "stream",
     "text": [
      "CAPM Alpha for 1981-2012 (Monthly): 0.7821%\n",
      "T-statistic for CAPM Alpha for 1981-2012 (Monthly): 3.5173\n"
     ]
    }
   ],
   "source": [
    "# Regress High - Low on the Market Risk Premium to find CAPM alpha\n",
    "X = fama_french_1981_2012['Mkt-RF']\n",
    "y = fama_french_1981_2012['High - Low']\n",
    "\n",
    "X = sm.add_constant(X)\n",
    "model = sm.OLS(y, X)\n",
    "results = model.fit()\n",
    "\n",
    "print('CAPM Alpha for 1981-2012 (Monthly):', str(round(results.params[0] * 100, 4)) + '%')\n",
    "print('T-statistic for CAPM Alpha for 1981-2012 (Monthly):', round(results.tvalues[0], 4))"
   ]
  },
  {
   "cell_type": "markdown",
   "metadata": {},
   "source": [
    "### Fama French 3 Factors Alpha: 1981 - 2012 (Value Weighted Drop 1000 Largest)"
   ]
  },
  {
   "cell_type": "code",
   "execution_count": 38,
   "metadata": {},
   "outputs": [
    {
     "name": "stdout",
     "output_type": "stream",
     "text": [
      "Fama French 3 Factor Alpha for 1981-2012 (Monthly): 0.7559%\n",
      "T-statistic for Fama French 3 Factor Alpha for 1981-2012 (Monthly): 3.5429\n"
     ]
    }
   ],
   "source": [
    "# Regress High - Low on the Market Risk Premium, SMB, and HML to find FF3 alpha\n",
    "X = fama_french_1981_2012[['Mkt-RF', 'SMB', 'HML']]\n",
    "y = fama_french_1981_2012['High - Low']\n",
    "\n",
    "X = sm.add_constant(X)\n",
    "model = sm.OLS(y, X)\n",
    "results = model.fit()\n",
    "\n",
    "print('Fama French 3 Factor Alpha for 1981-2012 (Monthly):', str(round(results.params[0] * 100, 4)) + '%')\n",
    "print('T-statistic for Fama French 3 Factor Alpha for 1981-2012 (Monthly):', round(results.tvalues[0], 4))"
   ]
  },
  {
   "cell_type": "markdown",
   "metadata": {},
   "source": [
    "### Sharpe Ratio: 1981 - 2012 (Value Weighted Drop 1000 Largest)"
   ]
  },
  {
   "cell_type": "code",
   "execution_count": 39,
   "metadata": {},
   "outputs": [
    {
     "name": "stdout",
     "output_type": "stream",
     "text": [
      "Annualized Sharpe Ratio for 1981-2012 (Annual): 0.7139\n"
     ]
    }
   ],
   "source": [
    "# sharpe ratio is mean / standard deviation of high - low\n",
    "mean_high_low = fama_french_1981_2012['High - Low'].mean()\n",
    "std_high_low = fama_french_1981_2012['High - Low'].std()\n",
    "\n",
    "# annualize the sharpe ratio by sqrt(12)\n",
    "annualized_sharpe_ratio = (mean_high_low / std_high_low) * np.sqrt(12)\n",
    "\n",
    "print('Annualized Sharpe Ratio for 1981-2012 (Annual):', round(annualized_sharpe_ratio, 4))"
   ]
  },
  {
   "cell_type": "markdown",
   "metadata": {},
   "source": [
    "# From 1981 - 2021"
   ]
  },
  {
   "cell_type": "markdown",
   "metadata": {},
   "source": [
    "## Equally Weighted"
   ]
  },
  {
   "cell_type": "markdown",
   "metadata": {},
   "source": [
    "### Equally Weighted Results (1981-2021)"
   ]
  },
  {
   "cell_type": "code",
   "execution_count": 40,
   "metadata": {},
   "outputs": [
    {
     "name": "stdout",
     "output_type": "stream",
     "text": [
      "1981-07-01 2021-12-31\n"
     ]
    },
    {
     "data": {
      "text/html": [
       "<div>\n",
       "<style scoped>\n",
       "    .dataframe tbody tr th:only-of-type {\n",
       "        vertical-align: middle;\n",
       "    }\n",
       "\n",
       "    .dataframe tbody tr th {\n",
       "        vertical-align: top;\n",
       "    }\n",
       "\n",
       "    .dataframe thead th {\n",
       "        text-align: right;\n",
       "    }\n",
       "</style>\n",
       "<table border=\"1\" class=\"dataframe\">\n",
       "  <thead>\n",
       "    <tr style=\"text-align: right;\">\n",
       "      <th></th>\n",
       "      <th>quintile</th>\n",
       "      <th>monthly_return</th>\n",
       "    </tr>\n",
       "  </thead>\n",
       "  <tbody>\n",
       "    <tr>\n",
       "      <th>0</th>\n",
       "      <td>0</td>\n",
       "      <td>0.767427</td>\n",
       "    </tr>\n",
       "    <tr>\n",
       "      <th>1</th>\n",
       "      <td>1</td>\n",
       "      <td>0.416657</td>\n",
       "    </tr>\n",
       "    <tr>\n",
       "      <th>2</th>\n",
       "      <td>2</td>\n",
       "      <td>0.739009</td>\n",
       "    </tr>\n",
       "    <tr>\n",
       "      <th>3</th>\n",
       "      <td>3</td>\n",
       "      <td>1.037016</td>\n",
       "    </tr>\n",
       "    <tr>\n",
       "      <th>4</th>\n",
       "      <td>4</td>\n",
       "      <td>1.207467</td>\n",
       "    </tr>\n",
       "    <tr>\n",
       "      <th>5</th>\n",
       "      <td>5</td>\n",
       "      <td>1.718040</td>\n",
       "    </tr>\n",
       "  </tbody>\n",
       "</table>\n",
       "</div>"
      ],
      "text/plain": [
       "   quintile  monthly_return\n",
       "0         0        0.767427\n",
       "1         1        0.416657\n",
       "2         2        0.739009\n",
       "3         3        1.037016\n",
       "4         4        1.207467\n",
       "5         5        1.718040"
      ]
     },
     "execution_count": 40,
     "metadata": {},
     "output_type": "execute_result"
    }
   ],
   "source": [
    "equal_returns_1981_2021, equal_monthly_returns_1981_2021 = get_equal_weighted(all_quant, '1981-07-01', '2021-12-31')\n",
    "equal_returns_1981_2021"
   ]
  },
  {
   "cell_type": "markdown",
   "metadata": {},
   "source": [
    "### Equally Weighted Results (1981-2021) per Month"
   ]
  },
  {
   "cell_type": "code",
   "execution_count": 41,
   "metadata": {},
   "outputs": [
    {
     "data": {
      "text/html": [
       "<div>\n",
       "<style scoped>\n",
       "    .dataframe tbody tr th:only-of-type {\n",
       "        vertical-align: middle;\n",
       "    }\n",
       "\n",
       "    .dataframe tbody tr th {\n",
       "        vertical-align: top;\n",
       "    }\n",
       "\n",
       "    .dataframe thead th {\n",
       "        text-align: right;\n",
       "    }\n",
       "</style>\n",
       "<table border=\"1\" class=\"dataframe\">\n",
       "  <thead>\n",
       "    <tr style=\"text-align: right;\">\n",
       "      <th>quintile</th>\n",
       "      <th>monthly_date</th>\n",
       "      <th>0</th>\n",
       "      <th>1</th>\n",
       "      <th>2</th>\n",
       "      <th>3</th>\n",
       "      <th>4</th>\n",
       "      <th>5</th>\n",
       "      <th>High - Low</th>\n",
       "    </tr>\n",
       "  </thead>\n",
       "  <tbody>\n",
       "    <tr>\n",
       "      <th>0</th>\n",
       "      <td>1981-07-31</td>\n",
       "      <td>-0.025439</td>\n",
       "      <td>-0.025538</td>\n",
       "      <td>-0.049509</td>\n",
       "      <td>-0.039951</td>\n",
       "      <td>-0.044144</td>\n",
       "      <td>-0.052400</td>\n",
       "      <td>-0.026862</td>\n",
       "    </tr>\n",
       "    <tr>\n",
       "      <th>1</th>\n",
       "      <td>1981-08-31</td>\n",
       "      <td>-0.078088</td>\n",
       "      <td>-0.097306</td>\n",
       "      <td>-0.098097</td>\n",
       "      <td>-0.105482</td>\n",
       "      <td>-0.110519</td>\n",
       "      <td>-0.097209</td>\n",
       "      <td>0.000097</td>\n",
       "    </tr>\n",
       "    <tr>\n",
       "      <th>2</th>\n",
       "      <td>1981-09-30</td>\n",
       "      <td>-0.099894</td>\n",
       "      <td>-0.114615</td>\n",
       "      <td>-0.102884</td>\n",
       "      <td>-0.087690</td>\n",
       "      <td>-0.093217</td>\n",
       "      <td>-0.099878</td>\n",
       "      <td>0.014737</td>\n",
       "    </tr>\n",
       "    <tr>\n",
       "      <th>3</th>\n",
       "      <td>1981-10-30</td>\n",
       "      <td>0.054894</td>\n",
       "      <td>0.087470</td>\n",
       "      <td>0.072907</td>\n",
       "      <td>0.075323</td>\n",
       "      <td>0.064404</td>\n",
       "      <td>0.056069</td>\n",
       "      <td>-0.031401</td>\n",
       "    </tr>\n",
       "    <tr>\n",
       "      <th>4</th>\n",
       "      <td>1981-11-30</td>\n",
       "      <td>0.006888</td>\n",
       "      <td>0.004924</td>\n",
       "      <td>0.005925</td>\n",
       "      <td>0.026594</td>\n",
       "      <td>0.011648</td>\n",
       "      <td>0.006884</td>\n",
       "      <td>0.001960</td>\n",
       "    </tr>\n",
       "    <tr>\n",
       "      <th>...</th>\n",
       "      <td>...</td>\n",
       "      <td>...</td>\n",
       "      <td>...</td>\n",
       "      <td>...</td>\n",
       "      <td>...</td>\n",
       "      <td>...</td>\n",
       "      <td>...</td>\n",
       "      <td>...</td>\n",
       "    </tr>\n",
       "    <tr>\n",
       "      <th>481</th>\n",
       "      <td>2021-08-31</td>\n",
       "      <td>0.014609</td>\n",
       "      <td>0.006645</td>\n",
       "      <td>0.014097</td>\n",
       "      <td>0.033002</td>\n",
       "      <td>0.026331</td>\n",
       "      <td>0.050104</td>\n",
       "      <td>0.043459</td>\n",
       "    </tr>\n",
       "    <tr>\n",
       "      <th>482</th>\n",
       "      <td>2021-09-30</td>\n",
       "      <td>-0.012520</td>\n",
       "      <td>-0.062265</td>\n",
       "      <td>-0.052261</td>\n",
       "      <td>-0.051529</td>\n",
       "      <td>-0.046459</td>\n",
       "      <td>-0.044011</td>\n",
       "      <td>0.018254</td>\n",
       "    </tr>\n",
       "    <tr>\n",
       "      <th>483</th>\n",
       "      <td>2021-10-29</td>\n",
       "      <td>0.032112</td>\n",
       "      <td>0.035545</td>\n",
       "      <td>0.030196</td>\n",
       "      <td>0.011874</td>\n",
       "      <td>0.014948</td>\n",
       "      <td>-0.038728</td>\n",
       "      <td>-0.074273</td>\n",
       "    </tr>\n",
       "    <tr>\n",
       "      <th>484</th>\n",
       "      <td>2021-11-30</td>\n",
       "      <td>-0.050321</td>\n",
       "      <td>-0.070381</td>\n",
       "      <td>-0.068706</td>\n",
       "      <td>-0.063764</td>\n",
       "      <td>-0.073499</td>\n",
       "      <td>-0.112590</td>\n",
       "      <td>-0.042209</td>\n",
       "    </tr>\n",
       "    <tr>\n",
       "      <th>485</th>\n",
       "      <td>2021-12-31</td>\n",
       "      <td>0.016710</td>\n",
       "      <td>-0.030338</td>\n",
       "      <td>-0.019959</td>\n",
       "      <td>-0.003335</td>\n",
       "      <td>-0.011961</td>\n",
       "      <td>-0.081443</td>\n",
       "      <td>-0.051105</td>\n",
       "    </tr>\n",
       "  </tbody>\n",
       "</table>\n",
       "<p>486 rows × 8 columns</p>\n",
       "</div>"
      ],
      "text/plain": [
       "quintile monthly_date         0         1         2         3         4  \\\n",
       "0          1981-07-31 -0.025439 -0.025538 -0.049509 -0.039951 -0.044144   \n",
       "1          1981-08-31 -0.078088 -0.097306 -0.098097 -0.105482 -0.110519   \n",
       "2          1981-09-30 -0.099894 -0.114615 -0.102884 -0.087690 -0.093217   \n",
       "3          1981-10-30  0.054894  0.087470  0.072907  0.075323  0.064404   \n",
       "4          1981-11-30  0.006888  0.004924  0.005925  0.026594  0.011648   \n",
       "..                ...       ...       ...       ...       ...       ...   \n",
       "481        2021-08-31  0.014609  0.006645  0.014097  0.033002  0.026331   \n",
       "482        2021-09-30 -0.012520 -0.062265 -0.052261 -0.051529 -0.046459   \n",
       "483        2021-10-29  0.032112  0.035545  0.030196  0.011874  0.014948   \n",
       "484        2021-11-30 -0.050321 -0.070381 -0.068706 -0.063764 -0.073499   \n",
       "485        2021-12-31  0.016710 -0.030338 -0.019959 -0.003335 -0.011961   \n",
       "\n",
       "quintile         5  High - Low  \n",
       "0        -0.052400   -0.026862  \n",
       "1        -0.097209    0.000097  \n",
       "2        -0.099878    0.014737  \n",
       "3         0.056069   -0.031401  \n",
       "4         0.006884    0.001960  \n",
       "..             ...         ...  \n",
       "481       0.050104    0.043459  \n",
       "482      -0.044011    0.018254  \n",
       "483      -0.038728   -0.074273  \n",
       "484      -0.112590   -0.042209  \n",
       "485      -0.081443   -0.051105  \n",
       "\n",
       "[486 rows x 8 columns]"
      ]
     },
     "execution_count": 41,
     "metadata": {},
     "output_type": "execute_result"
    }
   ],
   "source": [
    "# pivot the df so that the columns are the quintiles and the values are the monthly returns\n",
    "total_equal_1981_2021 = equal_monthly_returns_1981_2021.pivot(index='monthly_date', columns='quintile', values='monthly_return')\n",
    "# reset index so that the monthly_date is a column\n",
    "total_equal_1981_2021 = total_equal_1981_2021.reset_index()\n",
    "# add a column for high - low, which is the difference between the highest and lowest quintile for R&D\n",
    "total_equal_1981_2021['High - Low'] = total_equal_1981_2021[5] - total_equal_1981_2021[1]\n",
    "total_equal_1981_2021"
   ]
  },
  {
   "cell_type": "markdown",
   "metadata": {},
   "source": [
    "### Fama French Data: 1981 - 2021 (Equally Weighted)"
   ]
  },
  {
   "cell_type": "code",
   "execution_count": 42,
   "metadata": {},
   "outputs": [
    {
     "data": {
      "text/html": [
       "<div>\n",
       "<style scoped>\n",
       "    .dataframe tbody tr th:only-of-type {\n",
       "        vertical-align: middle;\n",
       "    }\n",
       "\n",
       "    .dataframe tbody tr th {\n",
       "        vertical-align: top;\n",
       "    }\n",
       "\n",
       "    .dataframe thead th {\n",
       "        text-align: right;\n",
       "    }\n",
       "</style>\n",
       "<table border=\"1\" class=\"dataframe\">\n",
       "  <thead>\n",
       "    <tr style=\"text-align: right;\">\n",
       "      <th></th>\n",
       "      <th>year_month</th>\n",
       "      <th>Mkt-RF</th>\n",
       "      <th>SMB</th>\n",
       "      <th>HML</th>\n",
       "      <th>RF</th>\n",
       "      <th>year</th>\n",
       "      <th>month</th>\n",
       "      <th>High - Low</th>\n",
       "    </tr>\n",
       "  </thead>\n",
       "  <tbody>\n",
       "    <tr>\n",
       "      <th>0</th>\n",
       "      <td>1981-07</td>\n",
       "      <td>-1.54</td>\n",
       "      <td>-2.19</td>\n",
       "      <td>-0.50</td>\n",
       "      <td>0.0124</td>\n",
       "      <td>1981</td>\n",
       "      <td>7</td>\n",
       "      <td>-0.026862</td>\n",
       "    </tr>\n",
       "    <tr>\n",
       "      <th>1</th>\n",
       "      <td>1981-08</td>\n",
       "      <td>-7.04</td>\n",
       "      <td>-1.95</td>\n",
       "      <td>4.76</td>\n",
       "      <td>0.0128</td>\n",
       "      <td>1981</td>\n",
       "      <td>8</td>\n",
       "      <td>0.000097</td>\n",
       "    </tr>\n",
       "  </tbody>\n",
       "</table>\n",
       "</div>"
      ],
      "text/plain": [
       "  year_month  Mkt-RF   SMB   HML      RF  year  month  High - Low\n",
       "0    1981-07   -1.54 -2.19 -0.50  0.0124  1981      7   -0.026862\n",
       "1    1981-08   -7.04 -1.95  4.76  0.0128  1981      8    0.000097"
      ]
     },
     "execution_count": 42,
     "metadata": {},
     "output_type": "execute_result"
    }
   ],
   "source": [
    "# filter the fama french data to only include the time period\n",
    "fama_french_1981_2021 = fama_french[(fama_french['year_month'] >= '1981-07') & (fama_french['year_month'] <= '2021-12')].reset_index(drop=True)\n",
    "# add a column for the high - low to make running the regression easier\n",
    "fama_french_1981_2021['High - Low'] = total_equal_1981_2021['High - Low']\n",
    "fama_french_1981_2021.head(2)"
   ]
  },
  {
   "cell_type": "markdown",
   "metadata": {},
   "source": [
    "### CAPM Alpha: 1981 - 2021 (Equal Weighted)"
   ]
  },
  {
   "cell_type": "code",
   "execution_count": 43,
   "metadata": {},
   "outputs": [
    {
     "name": "stdout",
     "output_type": "stream",
     "text": [
      "CAPM Alpha for 1981-2021 (Monthly): 1.2084%\n",
      "T-statistic for CAPM Alpha for 1981-2021 (Monthly): 5.3672\n"
     ]
    }
   ],
   "source": [
    "# Regress High - Low on the Market Risk Premium to find CAPM alpha\n",
    "X = fama_french_1981_2021['Mkt-RF']\n",
    "y = fama_french_1981_2021['High - Low']\n",
    "\n",
    "X = sm.add_constant(X)\n",
    "model = sm.OLS(y, X)\n",
    "results = model.fit()\n",
    "\n",
    "print('CAPM Alpha for 1981-2021 (Monthly):', str(round(results.params[0] * 100, 4)) + '%')\n",
    "print('T-statistic for CAPM Alpha for 1981-2021 (Monthly):', round(results.tvalues[0], 4))"
   ]
  },
  {
   "cell_type": "markdown",
   "metadata": {},
   "source": [
    "### Fama French 3 Factors Alpha: 1981 - 2021 (Equal Weighted)"
   ]
  },
  {
   "cell_type": "code",
   "execution_count": 44,
   "metadata": {},
   "outputs": [
    {
     "name": "stdout",
     "output_type": "stream",
     "text": [
      "Fama French 3 Factor Alpha for 1981-2021 (Monthly): 1.246%\n",
      "T-statistic for Fama French 3 Factor Alpha for 1981-2021 (Monthly): 6.2535\n"
     ]
    }
   ],
   "source": [
    "# Regress High - Low on the Market Risk Premium, SMB, and HML to find FF3 alpha\n",
    "X = fama_french_1981_2021[['Mkt-RF', 'SMB', 'HML']]\n",
    "y = fama_french_1981_2021['High - Low']\n",
    "\n",
    "X = sm.add_constant(X)\n",
    "model = sm.OLS(y, X)\n",
    "results = model.fit()\n",
    "\n",
    "print('Fama French 3 Factor Alpha for 1981-2021 (Monthly):', str(round(results.params[0] * 100, 4)) + '%')\n",
    "print('T-statistic for Fama French 3 Factor Alpha for 1981-2021 (Monthly):', round(results.tvalues[0], 4))"
   ]
  },
  {
   "cell_type": "markdown",
   "metadata": {},
   "source": [
    "### Sharpe Ratio: 1981 - 2021 (Equal Weighted)"
   ]
  },
  {
   "cell_type": "code",
   "execution_count": 45,
   "metadata": {},
   "outputs": [
    {
     "name": "stdout",
     "output_type": "stream",
     "text": [
      "Annualized Sharpe Ratio for 1981-2021 (Annual): 0.9155\n"
     ]
    }
   ],
   "source": [
    "# sharpe ratio is mean / standard deviation of high - low\n",
    "mean_high_low = fama_french_1981_2021['High - Low'].mean()\n",
    "std_high_low = fama_french_1981_2021['High - Low'].std()\n",
    "\n",
    "# annualize the sharpe ratio by sqrt(12)\n",
    "annualized_sharpe_ratio = (mean_high_low / std_high_low) * np.sqrt(12)\n",
    "\n",
    "print('Annualized Sharpe Ratio for 1981-2021 (Annual):', round(annualized_sharpe_ratio, 4))"
   ]
  },
  {
   "cell_type": "markdown",
   "metadata": {},
   "source": [
    "## Value Weighted"
   ]
  },
  {
   "cell_type": "markdown",
   "metadata": {},
   "source": [
    "### Value Weighted Results (1981-2021)"
   ]
  },
  {
   "cell_type": "code",
   "execution_count": 46,
   "metadata": {},
   "outputs": [
    {
     "name": "stdout",
     "output_type": "stream",
     "text": [
      "1981-07-01 2021-12-31\n"
     ]
    },
    {
     "data": {
      "text/html": [
       "<div>\n",
       "<style scoped>\n",
       "    .dataframe tbody tr th:only-of-type {\n",
       "        vertical-align: middle;\n",
       "    }\n",
       "\n",
       "    .dataframe tbody tr th {\n",
       "        vertical-align: top;\n",
       "    }\n",
       "\n",
       "    .dataframe thead th {\n",
       "        text-align: right;\n",
       "    }\n",
       "</style>\n",
       "<table border=\"1\" class=\"dataframe\">\n",
       "  <thead>\n",
       "    <tr style=\"text-align: right;\">\n",
       "      <th></th>\n",
       "      <th>quintile</th>\n",
       "      <th>weighted_monthly_return</th>\n",
       "    </tr>\n",
       "  </thead>\n",
       "  <tbody>\n",
       "    <tr>\n",
       "      <th>0</th>\n",
       "      <td>0</td>\n",
       "      <td>0.630619</td>\n",
       "    </tr>\n",
       "    <tr>\n",
       "      <th>1</th>\n",
       "      <td>1</td>\n",
       "      <td>0.569966</td>\n",
       "    </tr>\n",
       "    <tr>\n",
       "      <th>2</th>\n",
       "      <td>2</td>\n",
       "      <td>0.836068</td>\n",
       "    </tr>\n",
       "    <tr>\n",
       "      <th>3</th>\n",
       "      <td>3</td>\n",
       "      <td>0.876222</td>\n",
       "    </tr>\n",
       "    <tr>\n",
       "      <th>4</th>\n",
       "      <td>4</td>\n",
       "      <td>1.068864</td>\n",
       "    </tr>\n",
       "    <tr>\n",
       "      <th>5</th>\n",
       "      <td>5</td>\n",
       "      <td>1.146739</td>\n",
       "    </tr>\n",
       "  </tbody>\n",
       "</table>\n",
       "</div>"
      ],
      "text/plain": [
       "   quintile  weighted_monthly_return\n",
       "0         0                 0.630619\n",
       "1         1                 0.569966\n",
       "2         2                 0.836068\n",
       "3         3                 0.876222\n",
       "4         4                 1.068864\n",
       "5         5                 1.146739"
      ]
     },
     "execution_count": 46,
     "metadata": {},
     "output_type": "execute_result"
    }
   ],
   "source": [
    "value_return_1981_2021, value_monthly_returns_1981_2021 = get_value_weighted(all_quant, '1981-07-01', '2021-12-31')\n",
    "value_return_1981_2021"
   ]
  },
  {
   "cell_type": "markdown",
   "metadata": {},
   "source": [
    "### Value Weighted Results (1981-2021) per Month"
   ]
  },
  {
   "cell_type": "code",
   "execution_count": 47,
   "metadata": {},
   "outputs": [
    {
     "data": {
      "text/html": [
       "<div>\n",
       "<style scoped>\n",
       "    .dataframe tbody tr th:only-of-type {\n",
       "        vertical-align: middle;\n",
       "    }\n",
       "\n",
       "    .dataframe tbody tr th {\n",
       "        vertical-align: top;\n",
       "    }\n",
       "\n",
       "    .dataframe thead th {\n",
       "        text-align: right;\n",
       "    }\n",
       "</style>\n",
       "<table border=\"1\" class=\"dataframe\">\n",
       "  <thead>\n",
       "    <tr style=\"text-align: right;\">\n",
       "      <th>quintile</th>\n",
       "      <th>monthly_date</th>\n",
       "      <th>0</th>\n",
       "      <th>1</th>\n",
       "      <th>2</th>\n",
       "      <th>3</th>\n",
       "      <th>4</th>\n",
       "      <th>5</th>\n",
       "      <th>High - Low</th>\n",
       "    </tr>\n",
       "  </thead>\n",
       "  <tbody>\n",
       "    <tr>\n",
       "      <th>0</th>\n",
       "      <td>1981-07-31</td>\n",
       "      <td>-0.008123</td>\n",
       "      <td>0.055956</td>\n",
       "      <td>0.005565</td>\n",
       "      <td>-0.032474</td>\n",
       "      <td>-0.040559</td>\n",
       "      <td>-0.056509</td>\n",
       "      <td>-0.112465</td>\n",
       "    </tr>\n",
       "    <tr>\n",
       "      <th>1</th>\n",
       "      <td>1981-08-31</td>\n",
       "      <td>-0.070968</td>\n",
       "      <td>-0.080284</td>\n",
       "      <td>-0.050008</td>\n",
       "      <td>-0.083597</td>\n",
       "      <td>-0.070485</td>\n",
       "      <td>-0.105695</td>\n",
       "      <td>-0.025411</td>\n",
       "    </tr>\n",
       "    <tr>\n",
       "      <th>2</th>\n",
       "      <td>1981-09-30</td>\n",
       "      <td>-0.081258</td>\n",
       "      <td>-0.128556</td>\n",
       "      <td>-0.061268</td>\n",
       "      <td>-0.061388</td>\n",
       "      <td>-0.048509</td>\n",
       "      <td>-0.098185</td>\n",
       "      <td>0.030372</td>\n",
       "    </tr>\n",
       "    <tr>\n",
       "      <th>3</th>\n",
       "      <td>1981-10-30</td>\n",
       "      <td>0.065795</td>\n",
       "      <td>0.090411</td>\n",
       "      <td>0.037909</td>\n",
       "      <td>0.048415</td>\n",
       "      <td>0.008460</td>\n",
       "      <td>-0.026369</td>\n",
       "      <td>-0.116780</td>\n",
       "    </tr>\n",
       "    <tr>\n",
       "      <th>4</th>\n",
       "      <td>1981-11-30</td>\n",
       "      <td>0.028501</td>\n",
       "      <td>0.050888</td>\n",
       "      <td>0.033051</td>\n",
       "      <td>0.018046</td>\n",
       "      <td>0.037902</td>\n",
       "      <td>0.015492</td>\n",
       "      <td>-0.035396</td>\n",
       "    </tr>\n",
       "    <tr>\n",
       "      <th>...</th>\n",
       "      <td>...</td>\n",
       "      <td>...</td>\n",
       "      <td>...</td>\n",
       "      <td>...</td>\n",
       "      <td>...</td>\n",
       "      <td>...</td>\n",
       "      <td>...</td>\n",
       "      <td>...</td>\n",
       "    </tr>\n",
       "    <tr>\n",
       "      <th>481</th>\n",
       "      <td>2021-08-31</td>\n",
       "      <td>0.013034</td>\n",
       "      <td>0.028939</td>\n",
       "      <td>0.037388</td>\n",
       "      <td>0.033545</td>\n",
       "      <td>0.027570</td>\n",
       "      <td>0.004499</td>\n",
       "      <td>-0.024440</td>\n",
       "    </tr>\n",
       "    <tr>\n",
       "      <th>482</th>\n",
       "      <td>2021-09-30</td>\n",
       "      <td>-0.038373</td>\n",
       "      <td>-0.036226</td>\n",
       "      <td>-0.056046</td>\n",
       "      <td>-0.059273</td>\n",
       "      <td>-0.056799</td>\n",
       "      <td>-0.010286</td>\n",
       "      <td>0.025940</td>\n",
       "    </tr>\n",
       "    <tr>\n",
       "      <th>483</th>\n",
       "      <td>2021-10-29</td>\n",
       "      <td>0.053044</td>\n",
       "      <td>0.099992</td>\n",
       "      <td>0.087137</td>\n",
       "      <td>0.039244</td>\n",
       "      <td>0.028592</td>\n",
       "      <td>0.012471</td>\n",
       "      <td>-0.087521</td>\n",
       "    </tr>\n",
       "    <tr>\n",
       "      <th>484</th>\n",
       "      <td>2021-11-30</td>\n",
       "      <td>-0.026716</td>\n",
       "      <td>-0.038406</td>\n",
       "      <td>0.014209</td>\n",
       "      <td>-0.017352</td>\n",
       "      <td>0.031850</td>\n",
       "      <td>0.002533</td>\n",
       "      <td>0.040939</td>\n",
       "    </tr>\n",
       "    <tr>\n",
       "      <th>485</th>\n",
       "      <td>2021-12-31</td>\n",
       "      <td>0.053504</td>\n",
       "      <td>0.009259</td>\n",
       "      <td>0.018572</td>\n",
       "      <td>0.018431</td>\n",
       "      <td>0.073469</td>\n",
       "      <td>0.044252</td>\n",
       "      <td>0.034993</td>\n",
       "    </tr>\n",
       "  </tbody>\n",
       "</table>\n",
       "<p>486 rows × 8 columns</p>\n",
       "</div>"
      ],
      "text/plain": [
       "quintile monthly_date         0         1         2         3         4  \\\n",
       "0          1981-07-31 -0.008123  0.055956  0.005565 -0.032474 -0.040559   \n",
       "1          1981-08-31 -0.070968 -0.080284 -0.050008 -0.083597 -0.070485   \n",
       "2          1981-09-30 -0.081258 -0.128556 -0.061268 -0.061388 -0.048509   \n",
       "3          1981-10-30  0.065795  0.090411  0.037909  0.048415  0.008460   \n",
       "4          1981-11-30  0.028501  0.050888  0.033051  0.018046  0.037902   \n",
       "..                ...       ...       ...       ...       ...       ...   \n",
       "481        2021-08-31  0.013034  0.028939  0.037388  0.033545  0.027570   \n",
       "482        2021-09-30 -0.038373 -0.036226 -0.056046 -0.059273 -0.056799   \n",
       "483        2021-10-29  0.053044  0.099992  0.087137  0.039244  0.028592   \n",
       "484        2021-11-30 -0.026716 -0.038406  0.014209 -0.017352  0.031850   \n",
       "485        2021-12-31  0.053504  0.009259  0.018572  0.018431  0.073469   \n",
       "\n",
       "quintile         5  High - Low  \n",
       "0        -0.056509   -0.112465  \n",
       "1        -0.105695   -0.025411  \n",
       "2        -0.098185    0.030372  \n",
       "3        -0.026369   -0.116780  \n",
       "4         0.015492   -0.035396  \n",
       "..             ...         ...  \n",
       "481       0.004499   -0.024440  \n",
       "482      -0.010286    0.025940  \n",
       "483       0.012471   -0.087521  \n",
       "484       0.002533    0.040939  \n",
       "485       0.044252    0.034993  \n",
       "\n",
       "[486 rows x 8 columns]"
      ]
     },
     "execution_count": 47,
     "metadata": {},
     "output_type": "execute_result"
    }
   ],
   "source": [
    "# pivot the df so that the columns are the quintiles and the values are the monthly returns\n",
    "total_value_1981_2021 = value_monthly_returns_1981_2021.pivot(index='monthly_date', columns='quintile', values='weighted_monthly_return')\n",
    "# reset index so that the monthly_date is a column\n",
    "total_value_1981_2021 = total_value_1981_2021.reset_index()\n",
    "# add a column for high - low, which is the difference between the highest and lowest quintile for R&D\n",
    "total_value_1981_2021['High - Low'] = total_value_1981_2021[5] - total_value_1981_2021[1]\n",
    "total_value_1981_2021"
   ]
  },
  {
   "cell_type": "markdown",
   "metadata": {},
   "source": [
    "### Fama French Data: 1981 - 2021 (Value Weighted)"
   ]
  },
  {
   "cell_type": "code",
   "execution_count": 48,
   "metadata": {},
   "outputs": [
    {
     "data": {
      "text/html": [
       "<div>\n",
       "<style scoped>\n",
       "    .dataframe tbody tr th:only-of-type {\n",
       "        vertical-align: middle;\n",
       "    }\n",
       "\n",
       "    .dataframe tbody tr th {\n",
       "        vertical-align: top;\n",
       "    }\n",
       "\n",
       "    .dataframe thead th {\n",
       "        text-align: right;\n",
       "    }\n",
       "</style>\n",
       "<table border=\"1\" class=\"dataframe\">\n",
       "  <thead>\n",
       "    <tr style=\"text-align: right;\">\n",
       "      <th></th>\n",
       "      <th>year_month</th>\n",
       "      <th>Mkt-RF</th>\n",
       "      <th>SMB</th>\n",
       "      <th>HML</th>\n",
       "      <th>RF</th>\n",
       "      <th>year</th>\n",
       "      <th>month</th>\n",
       "      <th>High - Low</th>\n",
       "    </tr>\n",
       "  </thead>\n",
       "  <tbody>\n",
       "    <tr>\n",
       "      <th>0</th>\n",
       "      <td>1981-07</td>\n",
       "      <td>-1.54</td>\n",
       "      <td>-2.19</td>\n",
       "      <td>-0.50</td>\n",
       "      <td>0.0124</td>\n",
       "      <td>1981</td>\n",
       "      <td>7</td>\n",
       "      <td>-0.112465</td>\n",
       "    </tr>\n",
       "    <tr>\n",
       "      <th>1</th>\n",
       "      <td>1981-08</td>\n",
       "      <td>-7.04</td>\n",
       "      <td>-1.95</td>\n",
       "      <td>4.76</td>\n",
       "      <td>0.0128</td>\n",
       "      <td>1981</td>\n",
       "      <td>8</td>\n",
       "      <td>-0.025411</td>\n",
       "    </tr>\n",
       "  </tbody>\n",
       "</table>\n",
       "</div>"
      ],
      "text/plain": [
       "  year_month  Mkt-RF   SMB   HML      RF  year  month  High - Low\n",
       "0    1981-07   -1.54 -2.19 -0.50  0.0124  1981      7   -0.112465\n",
       "1    1981-08   -7.04 -1.95  4.76  0.0128  1981      8   -0.025411"
      ]
     },
     "execution_count": 48,
     "metadata": {},
     "output_type": "execute_result"
    }
   ],
   "source": [
    "# filter the fama french data to only include the time period\n",
    "fama_french_1981_2021 = fama_french[(fama_french['year_month'] >= '1981-07') & (fama_french['year_month'] <= '2021-12')].reset_index(drop=True)\n",
    "# add a column for the high - low to make running the regression easier\n",
    "fama_french_1981_2021['High - Low'] = total_value_1981_2021['High - Low']\n",
    "fama_french_1981_2021.head(2)"
   ]
  },
  {
   "cell_type": "markdown",
   "metadata": {},
   "source": [
    "### CAPM Alpha: 1981 - 2021 (Value Weighted)"
   ]
  },
  {
   "cell_type": "code",
   "execution_count": 49,
   "metadata": {},
   "outputs": [
    {
     "name": "stdout",
     "output_type": "stream",
     "text": [
      "CAPM Alpha for 1981-2021 (Monthly): 0.3161%\n",
      "T-statistic for CAPM Alpha for 1981-2021 (Monthly): 1.4668\n"
     ]
    }
   ],
   "source": [
    "# Regress High - Low on the Market Risk Premium to find CAPM alpha\n",
    "X = fama_french_1981_2021['Mkt-RF']\n",
    "y = fama_french_1981_2021['High - Low']\n",
    "\n",
    "X = sm.add_constant(X)\n",
    "model = sm.OLS(y, X)\n",
    "results = model.fit()\n",
    "\n",
    "print('CAPM Alpha for 1981-2021 (Monthly):', str(round(results.params[0] * 100, 4)) + '%')\n",
    "print('T-statistic for CAPM Alpha for 1981-2021 (Monthly):', round(results.tvalues[0], 4))"
   ]
  },
  {
   "cell_type": "markdown",
   "metadata": {},
   "source": [
    "### Fama French 3 Factors Alpha: 1981 - 2021 (Value Weighted)"
   ]
  },
  {
   "cell_type": "code",
   "execution_count": 50,
   "metadata": {},
   "outputs": [
    {
     "name": "stdout",
     "output_type": "stream",
     "text": [
      "Fama French 3 Factor Alpha for 1981-2021 (Monthly): 0.2166%\n",
      "T-statistic for Fama French 3 Factor Alpha for 1981-2021 (Monthly): 1.1605\n"
     ]
    }
   ],
   "source": [
    "# Regress High - Low on the Market Risk Premium, SMB, and HML to find FF3 alpha\n",
    "X = fama_french_1981_2021[['Mkt-RF', 'SMB', 'HML']]\n",
    "y = fama_french_1981_2021['High - Low']\n",
    "\n",
    "X = sm.add_constant(X)\n",
    "model = sm.OLS(y, X)\n",
    "results = model.fit()\n",
    "\n",
    "print('Fama French 3 Factor Alpha for 1981-2021 (Monthly):', str(round(results.params[0] * 100, 4)) + '%')\n",
    "print('T-statistic for Fama French 3 Factor Alpha for 1981-2021 (Monthly):', round(results.tvalues[0], 4))"
   ]
  },
  {
   "cell_type": "markdown",
   "metadata": {},
   "source": [
    "### Sharpe Ratio: 1981 - 2021 (Value Weighted)"
   ]
  },
  {
   "cell_type": "code",
   "execution_count": 51,
   "metadata": {},
   "outputs": [
    {
     "name": "stdout",
     "output_type": "stream",
     "text": [
      "Annualized Sharpe Ratio for 1981-2021 (Annual): 0.4043\n"
     ]
    }
   ],
   "source": [
    "# sharpe ratio is mean / standard deviation of high - low\n",
    "mean_high_low = fama_french_1981_2021['High - Low'].mean()\n",
    "std_high_low = fama_french_1981_2021['High - Low'].std()\n",
    "\n",
    "# annualize the sharpe ratio by sqrt(12)\n",
    "annualized_sharpe_ratio = (mean_high_low / std_high_low) * np.sqrt(12)\n",
    "\n",
    "print('Annualized Sharpe Ratio for 1981-2021 (Annual):', round(annualized_sharpe_ratio, 4))"
   ]
  },
  {
   "cell_type": "markdown",
   "metadata": {},
   "source": [
    "# From 1981 - 2021 Drop Top 1000 Largest Firms"
   ]
  },
  {
   "cell_type": "markdown",
   "metadata": {},
   "source": [
    "## Value Weighted"
   ]
  },
  {
   "cell_type": "markdown",
   "metadata": {},
   "source": [
    "### Value Weighted Drop 1000 Largest Results (1981-2021)"
   ]
  },
  {
   "cell_type": "code",
   "execution_count": 52,
   "metadata": {},
   "outputs": [
    {
     "name": "stdout",
     "output_type": "stream",
     "text": [
      "1981-07-01 2021-12-31\n"
     ]
    },
    {
     "data": {
      "text/html": [
       "<div>\n",
       "<style scoped>\n",
       "    .dataframe tbody tr th:only-of-type {\n",
       "        vertical-align: middle;\n",
       "    }\n",
       "\n",
       "    .dataframe tbody tr th {\n",
       "        vertical-align: top;\n",
       "    }\n",
       "\n",
       "    .dataframe thead th {\n",
       "        text-align: right;\n",
       "    }\n",
       "</style>\n",
       "<table border=\"1\" class=\"dataframe\">\n",
       "  <thead>\n",
       "    <tr style=\"text-align: right;\">\n",
       "      <th></th>\n",
       "      <th>quintile</th>\n",
       "      <th>weighted_monthly_return</th>\n",
       "    </tr>\n",
       "  </thead>\n",
       "  <tbody>\n",
       "    <tr>\n",
       "      <th>0</th>\n",
       "      <td>0</td>\n",
       "      <td>0.624803</td>\n",
       "    </tr>\n",
       "    <tr>\n",
       "      <th>1</th>\n",
       "      <td>1</td>\n",
       "      <td>0.552197</td>\n",
       "    </tr>\n",
       "    <tr>\n",
       "      <th>2</th>\n",
       "      <td>2</td>\n",
       "      <td>0.749625</td>\n",
       "    </tr>\n",
       "    <tr>\n",
       "      <th>3</th>\n",
       "      <td>3</td>\n",
       "      <td>0.897403</td>\n",
       "    </tr>\n",
       "    <tr>\n",
       "      <th>4</th>\n",
       "      <td>4</td>\n",
       "      <td>1.117715</td>\n",
       "    </tr>\n",
       "    <tr>\n",
       "      <th>5</th>\n",
       "      <td>5</td>\n",
       "      <td>1.467367</td>\n",
       "    </tr>\n",
       "  </tbody>\n",
       "</table>\n",
       "</div>"
      ],
      "text/plain": [
       "   quintile  weighted_monthly_return\n",
       "0         0                 0.624803\n",
       "1         1                 0.552197\n",
       "2         2                 0.749625\n",
       "3         3                 0.897403\n",
       "4         4                 1.117715\n",
       "5         5                 1.467367"
      ]
     },
     "execution_count": 52,
     "metadata": {},
     "output_type": "execute_result"
    }
   ],
   "source": [
    "value_return_1981_2021, value_monthly_returns_1981_2021 = get_value_weighted(new_all_quant, '1981-07-01', '2021-12-31')\n",
    "value_return_1981_2021"
   ]
  },
  {
   "cell_type": "markdown",
   "metadata": {},
   "source": [
    "### Value Weighted Drop 1000 Largest Results (1981-2021) per Month"
   ]
  },
  {
   "cell_type": "code",
   "execution_count": 53,
   "metadata": {},
   "outputs": [
    {
     "data": {
      "text/html": [
       "<div>\n",
       "<style scoped>\n",
       "    .dataframe tbody tr th:only-of-type {\n",
       "        vertical-align: middle;\n",
       "    }\n",
       "\n",
       "    .dataframe tbody tr th {\n",
       "        vertical-align: top;\n",
       "    }\n",
       "\n",
       "    .dataframe thead th {\n",
       "        text-align: right;\n",
       "    }\n",
       "</style>\n",
       "<table border=\"1\" class=\"dataframe\">\n",
       "  <thead>\n",
       "    <tr style=\"text-align: right;\">\n",
       "      <th>quintile</th>\n",
       "      <th>monthly_date</th>\n",
       "      <th>0</th>\n",
       "      <th>1</th>\n",
       "      <th>2</th>\n",
       "      <th>3</th>\n",
       "      <th>4</th>\n",
       "      <th>5</th>\n",
       "      <th>High - Low</th>\n",
       "    </tr>\n",
       "  </thead>\n",
       "  <tbody>\n",
       "    <tr>\n",
       "      <th>0</th>\n",
       "      <td>1981-07-31</td>\n",
       "      <td>-0.033569</td>\n",
       "      <td>-0.047503</td>\n",
       "      <td>-0.068878</td>\n",
       "      <td>-0.037728</td>\n",
       "      <td>-0.051461</td>\n",
       "      <td>-0.036836</td>\n",
       "      <td>0.010667</td>\n",
       "    </tr>\n",
       "    <tr>\n",
       "      <th>1</th>\n",
       "      <td>1981-08-31</td>\n",
       "      <td>-0.086396</td>\n",
       "      <td>-0.116843</td>\n",
       "      <td>-0.130441</td>\n",
       "      <td>-0.121269</td>\n",
       "      <td>-0.132399</td>\n",
       "      <td>-0.109261</td>\n",
       "      <td>0.007582</td>\n",
       "    </tr>\n",
       "    <tr>\n",
       "      <th>2</th>\n",
       "      <td>1981-09-30</td>\n",
       "      <td>-0.096905</td>\n",
       "      <td>-0.124186</td>\n",
       "      <td>-0.104069</td>\n",
       "      <td>-0.072961</td>\n",
       "      <td>-0.106890</td>\n",
       "      <td>-0.100469</td>\n",
       "      <td>0.023717</td>\n",
       "    </tr>\n",
       "    <tr>\n",
       "      <th>3</th>\n",
       "      <td>1981-10-30</td>\n",
       "      <td>0.067668</td>\n",
       "      <td>0.109050</td>\n",
       "      <td>0.093944</td>\n",
       "      <td>0.116231</td>\n",
       "      <td>0.078220</td>\n",
       "      <td>0.087660</td>\n",
       "      <td>-0.021390</td>\n",
       "    </tr>\n",
       "    <tr>\n",
       "      <th>4</th>\n",
       "      <td>1981-11-30</td>\n",
       "      <td>0.010812</td>\n",
       "      <td>0.004715</td>\n",
       "      <td>-0.001379</td>\n",
       "      <td>0.016452</td>\n",
       "      <td>0.005636</td>\n",
       "      <td>0.006681</td>\n",
       "      <td>0.001965</td>\n",
       "    </tr>\n",
       "    <tr>\n",
       "      <th>...</th>\n",
       "      <td>...</td>\n",
       "      <td>...</td>\n",
       "      <td>...</td>\n",
       "      <td>...</td>\n",
       "      <td>...</td>\n",
       "      <td>...</td>\n",
       "      <td>...</td>\n",
       "      <td>...</td>\n",
       "    </tr>\n",
       "    <tr>\n",
       "      <th>481</th>\n",
       "      <td>2021-08-31</td>\n",
       "      <td>0.007627</td>\n",
       "      <td>0.027059</td>\n",
       "      <td>0.002978</td>\n",
       "      <td>0.050786</td>\n",
       "      <td>0.052188</td>\n",
       "      <td>0.030488</td>\n",
       "      <td>0.003429</td>\n",
       "    </tr>\n",
       "    <tr>\n",
       "      <th>482</th>\n",
       "      <td>2021-09-30</td>\n",
       "      <td>-0.012962</td>\n",
       "      <td>-0.046116</td>\n",
       "      <td>-0.041413</td>\n",
       "      <td>-0.051971</td>\n",
       "      <td>-0.038712</td>\n",
       "      <td>-0.030288</td>\n",
       "      <td>0.015828</td>\n",
       "    </tr>\n",
       "    <tr>\n",
       "      <th>483</th>\n",
       "      <td>2021-10-29</td>\n",
       "      <td>0.052214</td>\n",
       "      <td>0.030453</td>\n",
       "      <td>0.034145</td>\n",
       "      <td>0.012998</td>\n",
       "      <td>0.023813</td>\n",
       "      <td>-0.018791</td>\n",
       "      <td>-0.049245</td>\n",
       "    </tr>\n",
       "    <tr>\n",
       "      <th>484</th>\n",
       "      <td>2021-11-30</td>\n",
       "      <td>-0.020124</td>\n",
       "      <td>-0.065038</td>\n",
       "      <td>-0.044169</td>\n",
       "      <td>-0.045285</td>\n",
       "      <td>-0.058538</td>\n",
       "      <td>-0.049677</td>\n",
       "      <td>0.015362</td>\n",
       "    </tr>\n",
       "    <tr>\n",
       "      <th>485</th>\n",
       "      <td>2021-12-31</td>\n",
       "      <td>0.000052</td>\n",
       "      <td>-0.004100</td>\n",
       "      <td>-0.005794</td>\n",
       "      <td>0.022922</td>\n",
       "      <td>0.026396</td>\n",
       "      <td>-0.005501</td>\n",
       "      <td>-0.001401</td>\n",
       "    </tr>\n",
       "  </tbody>\n",
       "</table>\n",
       "<p>486 rows × 8 columns</p>\n",
       "</div>"
      ],
      "text/plain": [
       "quintile monthly_date         0         1         2         3         4  \\\n",
       "0          1981-07-31 -0.033569 -0.047503 -0.068878 -0.037728 -0.051461   \n",
       "1          1981-08-31 -0.086396 -0.116843 -0.130441 -0.121269 -0.132399   \n",
       "2          1981-09-30 -0.096905 -0.124186 -0.104069 -0.072961 -0.106890   \n",
       "3          1981-10-30  0.067668  0.109050  0.093944  0.116231  0.078220   \n",
       "4          1981-11-30  0.010812  0.004715 -0.001379  0.016452  0.005636   \n",
       "..                ...       ...       ...       ...       ...       ...   \n",
       "481        2021-08-31  0.007627  0.027059  0.002978  0.050786  0.052188   \n",
       "482        2021-09-30 -0.012962 -0.046116 -0.041413 -0.051971 -0.038712   \n",
       "483        2021-10-29  0.052214  0.030453  0.034145  0.012998  0.023813   \n",
       "484        2021-11-30 -0.020124 -0.065038 -0.044169 -0.045285 -0.058538   \n",
       "485        2021-12-31  0.000052 -0.004100 -0.005794  0.022922  0.026396   \n",
       "\n",
       "quintile         5  High - Low  \n",
       "0        -0.036836    0.010667  \n",
       "1        -0.109261    0.007582  \n",
       "2        -0.100469    0.023717  \n",
       "3         0.087660   -0.021390  \n",
       "4         0.006681    0.001965  \n",
       "..             ...         ...  \n",
       "481       0.030488    0.003429  \n",
       "482      -0.030288    0.015828  \n",
       "483      -0.018791   -0.049245  \n",
       "484      -0.049677    0.015362  \n",
       "485      -0.005501   -0.001401  \n",
       "\n",
       "[486 rows x 8 columns]"
      ]
     },
     "execution_count": 53,
     "metadata": {},
     "output_type": "execute_result"
    }
   ],
   "source": [
    "# pivot the df so that the columns are the quintiles and the values are the monthly returns\n",
    "total_value_1981_2021 = value_monthly_returns_1981_2021.pivot(index='monthly_date', columns='quintile', values='weighted_monthly_return')\n",
    "# reset index so that the monthly_date is a column\n",
    "total_value_1981_2021 = total_value_1981_2021.reset_index()\n",
    "# add a column for high - low, which is the difference between the highest and lowest quintile for R&D\n",
    "total_value_1981_2021['High - Low'] = total_value_1981_2021[5] - total_value_1981_2021[1]\n",
    "total_value_1981_2021"
   ]
  },
  {
   "cell_type": "markdown",
   "metadata": {},
   "source": [
    "### Fama French Data: 1981 - 2012 (Value Weighted Drop 1000 Largest)"
   ]
  },
  {
   "cell_type": "code",
   "execution_count": 54,
   "metadata": {},
   "outputs": [
    {
     "data": {
      "text/html": [
       "<div>\n",
       "<style scoped>\n",
       "    .dataframe tbody tr th:only-of-type {\n",
       "        vertical-align: middle;\n",
       "    }\n",
       "\n",
       "    .dataframe tbody tr th {\n",
       "        vertical-align: top;\n",
       "    }\n",
       "\n",
       "    .dataframe thead th {\n",
       "        text-align: right;\n",
       "    }\n",
       "</style>\n",
       "<table border=\"1\" class=\"dataframe\">\n",
       "  <thead>\n",
       "    <tr style=\"text-align: right;\">\n",
       "      <th></th>\n",
       "      <th>year_month</th>\n",
       "      <th>Mkt-RF</th>\n",
       "      <th>SMB</th>\n",
       "      <th>HML</th>\n",
       "      <th>RF</th>\n",
       "      <th>year</th>\n",
       "      <th>month</th>\n",
       "      <th>High - Low</th>\n",
       "    </tr>\n",
       "  </thead>\n",
       "  <tbody>\n",
       "    <tr>\n",
       "      <th>0</th>\n",
       "      <td>1981-07</td>\n",
       "      <td>-1.54</td>\n",
       "      <td>-2.19</td>\n",
       "      <td>-0.50</td>\n",
       "      <td>0.0124</td>\n",
       "      <td>1981</td>\n",
       "      <td>7</td>\n",
       "      <td>0.010667</td>\n",
       "    </tr>\n",
       "    <tr>\n",
       "      <th>1</th>\n",
       "      <td>1981-08</td>\n",
       "      <td>-7.04</td>\n",
       "      <td>-1.95</td>\n",
       "      <td>4.76</td>\n",
       "      <td>0.0128</td>\n",
       "      <td>1981</td>\n",
       "      <td>8</td>\n",
       "      <td>0.007582</td>\n",
       "    </tr>\n",
       "  </tbody>\n",
       "</table>\n",
       "</div>"
      ],
      "text/plain": [
       "  year_month  Mkt-RF   SMB   HML      RF  year  month  High - Low\n",
       "0    1981-07   -1.54 -2.19 -0.50  0.0124  1981      7    0.010667\n",
       "1    1981-08   -7.04 -1.95  4.76  0.0128  1981      8    0.007582"
      ]
     },
     "execution_count": 54,
     "metadata": {},
     "output_type": "execute_result"
    }
   ],
   "source": [
    "# filter the fama french data to only include the time period\n",
    "fama_french_1981_2021 = fama_french[(fama_french['year_month'] >= '1981-07') & (fama_french['year_month'] <= '2021-12')].reset_index(drop=True)\n",
    "# add a column for the high - low to make running the regression easier\n",
    "fama_french_1981_2021['High - Low'] = total_value_1981_2021['High - Low']\n",
    "fama_french_1981_2021.head(2)"
   ]
  },
  {
   "cell_type": "markdown",
   "metadata": {},
   "source": [
    "### CAPM Alpha: 1981 - 2021 (Value Weighted Drop 1000 Largest)"
   ]
  },
  {
   "cell_type": "code",
   "execution_count": 55,
   "metadata": {},
   "outputs": [
    {
     "name": "stdout",
     "output_type": "stream",
     "text": [
      "CAPM Alpha for 1981-2021 (Monthly): 0.7478%\n",
      "T-statistic for CAPM Alpha for 1981-2021 (Monthly): 3.6852\n"
     ]
    }
   ],
   "source": [
    "# Regress High - Low on the Market Risk Premium to find CAPM alpha\n",
    "X = fama_french_1981_2021['Mkt-RF']\n",
    "y = fama_french_1981_2021['High - Low']\n",
    "\n",
    "X = sm.add_constant(X)\n",
    "model = sm.OLS(y, X)\n",
    "results = model.fit()\n",
    "\n",
    "print('CAPM Alpha for 1981-2021 (Monthly):', str(round(results.params[0] * 100, 4)) + '%')\n",
    "print('T-statistic for CAPM Alpha for 1981-2021 (Monthly):', round(results.tvalues[0], 4))"
   ]
  },
  {
   "cell_type": "markdown",
   "metadata": {},
   "source": [
    "### Fama French 3 Factors Alpha: 1981 - 2021 (Value Weighted Drop 1000 Largest)"
   ]
  },
  {
   "cell_type": "code",
   "execution_count": 56,
   "metadata": {},
   "outputs": [
    {
     "name": "stdout",
     "output_type": "stream",
     "text": [
      "Fama French 3 Factor Alpha for 1981-2021 (Monthly): 0.7654%\n",
      "T-statistic for Fama French 3 Factor Alpha for 1981-2021 (Monthly): 3.9555\n"
     ]
    }
   ],
   "source": [
    "# Regress High - Low on the Market Risk Premium, SMB, and HML to find FF3 alpha\n",
    "X = fama_french_1981_2021[['Mkt-RF', 'SMB', 'HML']]\n",
    "y = fama_french_1981_2021['High - Low']\n",
    "\n",
    "X = sm.add_constant(X)\n",
    "model = sm.OLS(y, X)\n",
    "results = model.fit()\n",
    "\n",
    "print('Fama French 3 Factor Alpha for 1981-2021 (Monthly):', str(round(results.params[0] * 100, 4)) + '%')\n",
    "print('T-statistic for Fama French 3 Factor Alpha for 1981-2021 (Monthly):', round(results.tvalues[0], 4))"
   ]
  },
  {
   "cell_type": "markdown",
   "metadata": {},
   "source": [
    "### Sharpe Ratio: 1981 - 2021 (Value Weighted 1000)"
   ]
  },
  {
   "cell_type": "code",
   "execution_count": 57,
   "metadata": {},
   "outputs": [
    {
     "name": "stdout",
     "output_type": "stream",
     "text": [
      "Annualized Sharpe Ratio for 1981-2021 (Annual): 0.7007\n"
     ]
    }
   ],
   "source": [
    "# Sharpe ratio is mean / standard deviation of high - low\n",
    "mean_high_low = fama_french_1981_2021['High - Low'].mean()\n",
    "std_high_low = fama_french_1981_2021['High - Low'].std()\n",
    "\n",
    "# annualize the sharpe ratio by sqrt(12)\n",
    "annualized_sharpe_ratio = (mean_high_low / std_high_low) * np.sqrt(12)\n",
    "\n",
    "print('Annualized Sharpe Ratio for 1981-2021 (Annual):', round(annualized_sharpe_ratio, 4))"
   ]
  }
 ],
 "metadata": {
  "kernelspec": {
   "display_name": "Python 3.8.3 ('base')",
   "language": "python",
   "name": "python3"
  },
  "language_info": {
   "codemirror_mode": {
    "name": "ipython",
    "version": 3
   },
   "file_extension": ".py",
   "mimetype": "text/x-python",
   "name": "python",
   "nbconvert_exporter": "python",
   "pygments_lexer": "ipython3",
   "version": "3.8.3"
  },
  "orig_nbformat": 4,
  "vscode": {
   "interpreter": {
    "hash": "8fda165f50e76d432f6ed799118bc9dab23fa79194393d6371ca86a52c69e7ca"
   }
  }
 },
 "nbformat": 4,
 "nbformat_minor": 2
}
